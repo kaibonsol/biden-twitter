{
 "metadata": {
  "language_info": {
   "codemirror_mode": {
    "name": "ipython",
    "version": 3
   },
   "file_extension": ".py",
   "mimetype": "text/x-python",
   "name": "python",
   "nbconvert_exporter": "python",
   "pygments_lexer": "ipython3",
   "version": "3.8.7"
  },
  "orig_nbformat": 2,
  "kernelspec": {
   "name": "python387jvsc74a57bd01e3fc3fd5cc6611b408713c484747d9500a6295d1233da3fe53fbb9b1a925342",
   "display_name": "Python 3.8.7 64-bit"
  },
  "metadata": {
   "interpreter": {
    "hash": "1e3fc3fd5cc6611b408713c484747d9500a6295d1233da3fe53fbb9b1a925342"
   }
  }
 },
 "nbformat": 4,
 "nbformat_minor": 2,
 "cells": [
  {
   "source": [
    "## Compile Obama's Twitter data and 538 Polling Data"
   ],
   "cell_type": "markdown",
   "metadata": {}
  },
  {
   "cell_type": "code",
   "execution_count": 74,
   "metadata": {},
   "outputs": [],
   "source": [
    "import pandas as pd"
   ]
  },
  {
   "cell_type": "code",
   "execution_count": 75,
   "metadata": {},
   "outputs": [],
   "source": [
    "polling_df = pd.read_csv('data/obama_polling.csv')\n",
    "twitter_df = pd.read_csv('data/obama_twitter.csv')\n",
    "polling_df.drop([\"no_data\", \"disapproving\"], axis=1, inplace=True)"
   ]
  },
  {
   "cell_type": "code",
   "execution_count": 76,
   "metadata": {},
   "outputs": [
    {
     "output_type": "execute_result",
     "data": {
      "text/plain": [
       "  start_date    end_date  approving\n",
       "0    1/16/17   1/19/2017         59\n",
       "1     1/9/17   1/15/2017         57\n",
       "2     1/2/17    1/8/2017         55\n",
       "3   12/26/16    1/1/2017         55\n",
       "4   12/19/16  12/25/2016         56"
      ],
      "text/html": "<div>\n<style scoped>\n    .dataframe tbody tr th:only-of-type {\n        vertical-align: middle;\n    }\n\n    .dataframe tbody tr th {\n        vertical-align: top;\n    }\n\n    .dataframe thead th {\n        text-align: right;\n    }\n</style>\n<table border=\"1\" class=\"dataframe\">\n  <thead>\n    <tr style=\"text-align: right;\">\n      <th></th>\n      <th>start_date</th>\n      <th>end_date</th>\n      <th>approving</th>\n    </tr>\n  </thead>\n  <tbody>\n    <tr>\n      <th>0</th>\n      <td>1/16/17</td>\n      <td>1/19/2017</td>\n      <td>59</td>\n    </tr>\n    <tr>\n      <th>1</th>\n      <td>1/9/17</td>\n      <td>1/15/2017</td>\n      <td>57</td>\n    </tr>\n    <tr>\n      <th>2</th>\n      <td>1/2/17</td>\n      <td>1/8/2017</td>\n      <td>55</td>\n    </tr>\n    <tr>\n      <th>3</th>\n      <td>12/26/16</td>\n      <td>1/1/2017</td>\n      <td>55</td>\n    </tr>\n    <tr>\n      <th>4</th>\n      <td>12/19/16</td>\n      <td>12/25/2016</td>\n      <td>56</td>\n    </tr>\n  </tbody>\n</table>\n</div>"
     },
     "metadata": {},
     "execution_count": 76
    }
   ],
   "source": [
    "polling_df.head()"
   ]
  },
  {
   "source": [
    "I want only one date column, so I want to extend the range of start_date to end_date "
   ],
   "cell_type": "markdown",
   "metadata": {}
  },
  {
   "cell_type": "code",
   "execution_count": 77,
   "metadata": {},
   "outputs": [
    {
     "output_type": "execute_result",
     "data": {
      "text/plain": [
       "              date  approving\n",
       "    row                      \n",
       "0   0      1/16/17         59\n",
       "    0    1/19/2017         59\n",
       "1   1       1/9/17         57\n",
       "    1    1/15/2017         57\n",
       "2   2       1/2/17         55\n",
       "...            ...        ...\n",
       "415 415   2/8/2009         65\n",
       "416 416    1/26/09         66\n",
       "    416   2/1/2009         66\n",
       "417 417    1/19/09         67\n",
       "    417  1/25/2009         67\n",
       "\n",
       "[836 rows x 2 columns]"
      ],
      "text/html": "<div>\n<style scoped>\n    .dataframe tbody tr th:only-of-type {\n        vertical-align: middle;\n    }\n\n    .dataframe tbody tr th {\n        vertical-align: top;\n    }\n\n    .dataframe thead th {\n        text-align: right;\n    }\n</style>\n<table border=\"1\" class=\"dataframe\">\n  <thead>\n    <tr style=\"text-align: right;\">\n      <th></th>\n      <th></th>\n      <th>date</th>\n      <th>approving</th>\n    </tr>\n    <tr>\n      <th></th>\n      <th>row</th>\n      <th></th>\n      <th></th>\n    </tr>\n  </thead>\n  <tbody>\n    <tr>\n      <th rowspan=\"2\" valign=\"top\">0</th>\n      <th>0</th>\n      <td>1/16/17</td>\n      <td>59</td>\n    </tr>\n    <tr>\n      <th>0</th>\n      <td>1/19/2017</td>\n      <td>59</td>\n    </tr>\n    <tr>\n      <th rowspan=\"2\" valign=\"top\">1</th>\n      <th>1</th>\n      <td>1/9/17</td>\n      <td>57</td>\n    </tr>\n    <tr>\n      <th>1</th>\n      <td>1/15/2017</td>\n      <td>57</td>\n    </tr>\n    <tr>\n      <th>2</th>\n      <th>2</th>\n      <td>1/2/17</td>\n      <td>55</td>\n    </tr>\n    <tr>\n      <th>...</th>\n      <th>...</th>\n      <td>...</td>\n      <td>...</td>\n    </tr>\n    <tr>\n      <th>415</th>\n      <th>415</th>\n      <td>2/8/2009</td>\n      <td>65</td>\n    </tr>\n    <tr>\n      <th rowspan=\"2\" valign=\"top\">416</th>\n      <th>416</th>\n      <td>1/26/09</td>\n      <td>66</td>\n    </tr>\n    <tr>\n      <th>416</th>\n      <td>2/1/2009</td>\n      <td>66</td>\n    </tr>\n    <tr>\n      <th rowspan=\"2\" valign=\"top\">417</th>\n      <th>417</th>\n      <td>1/19/09</td>\n      <td>67</td>\n    </tr>\n    <tr>\n      <th>417</th>\n      <td>1/25/2009</td>\n      <td>67</td>\n    </tr>\n  </tbody>\n</table>\n<p>836 rows × 2 columns</p>\n</div>"
     },
     "metadata": {},
     "execution_count": 77
    }
   ],
   "source": [
    "polling_df['row'] = range(len(polling_df))\n",
    "starts = polling_df[['start_date', 'approving', 'row']].rename(columns={'start_date':'date'})\n",
    "ends = polling_df[['end_date', 'approving', 'row']].rename(columns={'end_date':'date'})\n",
    "df_decomp = pd.concat([starts, ends])\n",
    "df_decomp = df_decomp.set_index('row', append=True)\n",
    "df_decomp.sort_index()\n"
   ]
  },
  {
   "cell_type": "code",
   "execution_count": 78,
   "metadata": {},
   "outputs": [],
   "source": [
    "df_decomp.date = pd.to_datetime(df_decomp.date)\n",
    "df_decomp = df_decomp.groupby(['row']).apply(lambda x: x.set_index('date').resample('D').fillna(method='pad'))\n",
    "df_decomp = df_decomp.reset_index(['row'], drop=True)\n"
   ]
  },
  {
   "cell_type": "code",
   "execution_count": 96,
   "metadata": {},
   "outputs": [],
   "source": [
    "df_decomp.sort_values(by=['date'], inplace=True, ascending=False)\n",
    "df_decomp.head()\n",
    "df_decomp.to_csv('data/obama_polling.csv')"
   ]
  },
  {
   "cell_type": "code",
   "execution_count": 94,
   "metadata": {},
   "outputs": [
    {
     "output_type": "execute_result",
     "data": {
      "text/plain": [
       "         date  replies  retweets  favorites\n",
       "0  2017-10-16    17064     89916     641842\n",
       "1  2017-10-02    21588    405895    1715753\n",
       "2  2017-09-30     8476     60651     503255\n",
       "3  2017-09-26    10657    113807     334901\n",
       "4  2017-09-25     3886     58449     328106"
      ],
      "text/html": "<div>\n<style scoped>\n    .dataframe tbody tr th:only-of-type {\n        vertical-align: middle;\n    }\n\n    .dataframe tbody tr th {\n        vertical-align: top;\n    }\n\n    .dataframe thead th {\n        text-align: right;\n    }\n</style>\n<table border=\"1\" class=\"dataframe\">\n  <thead>\n    <tr style=\"text-align: right;\">\n      <th></th>\n      <th>date</th>\n      <th>replies</th>\n      <th>retweets</th>\n      <th>favorites</th>\n    </tr>\n  </thead>\n  <tbody>\n    <tr>\n      <th>0</th>\n      <td>2017-10-16</td>\n      <td>17064</td>\n      <td>89916</td>\n      <td>641842</td>\n    </tr>\n    <tr>\n      <th>1</th>\n      <td>2017-10-02</td>\n      <td>21588</td>\n      <td>405895</td>\n      <td>1715753</td>\n    </tr>\n    <tr>\n      <th>2</th>\n      <td>2017-09-30</td>\n      <td>8476</td>\n      <td>60651</td>\n      <td>503255</td>\n    </tr>\n    <tr>\n      <th>3</th>\n      <td>2017-09-26</td>\n      <td>10657</td>\n      <td>113807</td>\n      <td>334901</td>\n    </tr>\n    <tr>\n      <th>4</th>\n      <td>2017-09-25</td>\n      <td>3886</td>\n      <td>58449</td>\n      <td>328106</td>\n    </tr>\n  </tbody>\n</table>\n</div>"
     },
     "metadata": {},
     "execution_count": 94
    }
   ],
   "source": [
    "twitter_df.date = pd.to_datetime(twitter_df.date)\n",
    "twitter_df['date'] = twitter_df['date'].dt.strftime('%Y-%m-%d')\n",
    "twitter_df.head()"
   ]
  },
  {
   "cell_type": "code",
   "execution_count": 97,
   "metadata": {},
   "outputs": [
    {
     "output_type": "execute_result",
     "data": {
      "text/plain": [
       "         date  approving\n",
       "0  2017-01-19         59\n",
       "1  2017-01-18         59\n",
       "2  2017-01-17         59\n",
       "3  2017-01-16         59\n",
       "4  2017-01-15         57"
      ],
      "text/html": "<div>\n<style scoped>\n    .dataframe tbody tr th:only-of-type {\n        vertical-align: middle;\n    }\n\n    .dataframe tbody tr th {\n        vertical-align: top;\n    }\n\n    .dataframe thead th {\n        text-align: right;\n    }\n</style>\n<table border=\"1\" class=\"dataframe\">\n  <thead>\n    <tr style=\"text-align: right;\">\n      <th></th>\n      <th>date</th>\n      <th>approving</th>\n    </tr>\n  </thead>\n  <tbody>\n    <tr>\n      <th>0</th>\n      <td>2017-01-19</td>\n      <td>59</td>\n    </tr>\n    <tr>\n      <th>1</th>\n      <td>2017-01-18</td>\n      <td>59</td>\n    </tr>\n    <tr>\n      <th>2</th>\n      <td>2017-01-17</td>\n      <td>59</td>\n    </tr>\n    <tr>\n      <th>3</th>\n      <td>2017-01-16</td>\n      <td>59</td>\n    </tr>\n    <tr>\n      <th>4</th>\n      <td>2017-01-15</td>\n      <td>57</td>\n    </tr>\n  </tbody>\n</table>\n</div>"
     },
     "metadata": {},
     "execution_count": 97
    }
   ],
   "source": [
    "polling_df = pd.read_csv('data/obama_polling.csv')\n",
    "polling_df.head()"
   ]
  },
  {
   "cell_type": "code",
   "execution_count": 100,
   "metadata": {},
   "outputs": [],
   "source": [
    "final_df = pd.merge(twitter_df, polling_df, on=\"date\")\n",
    "final_df.head()\n",
    "final_df.to_csv('data/obama_aggregate.csv')"
   ]
  }
 ]
}