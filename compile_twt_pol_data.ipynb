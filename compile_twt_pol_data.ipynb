{
 "metadata": {
  "language_info": {
   "codemirror_mode": {
    "name": "ipython",
    "version": 3
   },
   "file_extension": ".py",
   "mimetype": "text/x-python",
   "name": "python",
   "nbconvert_exporter": "python",
   "pygments_lexer": "ipython3",
   "version": "3.8.7"
  },
  "orig_nbformat": 2,
  "kernelspec": {
   "name": "python387jvsc74a57bd01e3fc3fd5cc6611b408713c484747d9500a6295d1233da3fe53fbb9b1a925342",
   "display_name": "Python 3.8.7 64-bit"
  },
  "metadata": {
   "interpreter": {
    "hash": "1e3fc3fd5cc6611b408713c484747d9500a6295d1233da3fe53fbb9b1a925342"
   }
  }
 },
 "nbformat": 4,
 "nbformat_minor": 2,
 "cells": [
  {
   "source": [
    "### Compile twitter and 538 polling data on Joe Biden \n",
    "want to compile by the enddate in polling data to tweet date in twitter data"
   ],
   "cell_type": "markdown",
   "metadata": {}
  },
  {
   "cell_type": "code",
   "execution_count": 1,
   "metadata": {},
   "outputs": [],
   "source": [
    "import pandas as pd"
   ]
  },
  {
   "source": [
    "Note: retweets all have RT at the start of their twt_texts, but also a twt_favct of 0 (this is universally true)"
   ],
   "cell_type": "markdown",
   "metadata": {}
  },
  {
   "cell_type": "code",
   "execution_count": 10,
   "metadata": {},
   "outputs": [
    {
     "output_type": "error",
     "ename": "AttributeError",
     "evalue": "'list' object has no attribute 'partition'",
     "traceback": [
      "\u001b[1;31m---------------------------------------------------------------------------\u001b[0m",
      "\u001b[1;31mAttributeError\u001b[0m                            Traceback (most recent call last)",
      "\u001b[1;32m<ipython-input-10-707a17cac601>\u001b[0m in \u001b[0;36m<module>\u001b[1;34m\u001b[0m\n\u001b[0;32m      7\u001b[0m \u001b[1;31m# want to change the twitter dates to be same format as polling dates\u001b[0m\u001b[1;33m\u001b[0m\u001b[1;33m\u001b[0m\u001b[1;33m\u001b[0m\u001b[0m\n\u001b[0;32m      8\u001b[0m \u001b[1;33m\u001b[0m\u001b[0m\n\u001b[1;32m----> 9\u001b[1;33m twitter_df['twt_dates'] = twitter_df['twt_dates'].map(lambda date: \n\u001b[0m\u001b[0;32m     10\u001b[0m                                                         \u001b[0mdate\u001b[0m\u001b[1;33m.\u001b[0m\u001b[0msplit\u001b[0m\u001b[1;33m(\u001b[0m\u001b[1;34m\"-\"\u001b[0m\u001b[1;33m,\u001b[0m \u001b[1;36m1\u001b[0m\u001b[1;33m)\u001b[0m\u001b[1;33m.\u001b[0m\u001b[0mpartition\u001b[0m\u001b[1;33m(\u001b[0m\u001b[1;34m'-'\u001b[0m\u001b[1;33m)\u001b[0m\u001b[1;33m[\u001b[0m\u001b[1;36m0\u001b[0m\u001b[1;33m]\u001b[0m \u001b[1;33m+\u001b[0m \u001b[1;34m'/'\u001b[0m \u001b[1;33m+\u001b[0m\u001b[1;33m\u001b[0m\u001b[1;33m\u001b[0m\u001b[0m\n\u001b[0;32m     11\u001b[0m                                                         \u001b[0mdate\u001b[0m\u001b[1;33m.\u001b[0m\u001b[0msplit\u001b[0m\u001b[1;33m(\u001b[0m\u001b[1;34m\"-\"\u001b[0m\u001b[1;33m,\u001b[0m \u001b[1;36m1\u001b[0m\u001b[1;33m)\u001b[0m\u001b[1;33m.\u001b[0m\u001b[0msplit\u001b[0m\u001b[1;33m(\u001b[0m\u001b[1;34m\"-\"\u001b[0m\u001b[1;33m,\u001b[0m \u001b[1;36m1\u001b[0m\u001b[1;33m)\u001b[0m \u001b[1;33m+\u001b[0m \u001b[1;34m'/'\u001b[0m \u001b[1;33m+\u001b[0m\u001b[1;33m\u001b[0m\u001b[1;33m\u001b[0m\u001b[0m\n",
      "\u001b[1;32m~\\AppData\\Local\\Programs\\Python\\Python38\\lib\\site-packages\\pandas\\core\\series.py\u001b[0m in \u001b[0;36mmap\u001b[1;34m(self, arg, na_action)\u001b[0m\n\u001b[0;32m   3981\u001b[0m         \u001b[0mdtype\u001b[0m\u001b[1;33m:\u001b[0m \u001b[0mobject\u001b[0m\u001b[1;33m\u001b[0m\u001b[1;33m\u001b[0m\u001b[0m\n\u001b[0;32m   3982\u001b[0m         \"\"\"\n\u001b[1;32m-> 3983\u001b[1;33m         \u001b[0mnew_values\u001b[0m \u001b[1;33m=\u001b[0m \u001b[0msuper\u001b[0m\u001b[1;33m(\u001b[0m\u001b[1;33m)\u001b[0m\u001b[1;33m.\u001b[0m\u001b[0m_map_values\u001b[0m\u001b[1;33m(\u001b[0m\u001b[0marg\u001b[0m\u001b[1;33m,\u001b[0m \u001b[0mna_action\u001b[0m\u001b[1;33m=\u001b[0m\u001b[0mna_action\u001b[0m\u001b[1;33m)\u001b[0m\u001b[1;33m\u001b[0m\u001b[1;33m\u001b[0m\u001b[0m\n\u001b[0m\u001b[0;32m   3984\u001b[0m         return self._constructor(new_values, index=self.index).__finalize__(\n\u001b[0;32m   3985\u001b[0m             \u001b[0mself\u001b[0m\u001b[1;33m,\u001b[0m \u001b[0mmethod\u001b[0m\u001b[1;33m=\u001b[0m\u001b[1;34m\"map\"\u001b[0m\u001b[1;33m\u001b[0m\u001b[1;33m\u001b[0m\u001b[0m\n",
      "\u001b[1;32m~\\AppData\\Local\\Programs\\Python\\Python38\\lib\\site-packages\\pandas\\core\\base.py\u001b[0m in \u001b[0;36m_map_values\u001b[1;34m(self, mapper, na_action)\u001b[0m\n\u001b[0;32m   1158\u001b[0m \u001b[1;33m\u001b[0m\u001b[0m\n\u001b[0;32m   1159\u001b[0m         \u001b[1;31m# mapper is a function\u001b[0m\u001b[1;33m\u001b[0m\u001b[1;33m\u001b[0m\u001b[1;33m\u001b[0m\u001b[0m\n\u001b[1;32m-> 1160\u001b[1;33m         \u001b[0mnew_values\u001b[0m \u001b[1;33m=\u001b[0m \u001b[0mmap_f\u001b[0m\u001b[1;33m(\u001b[0m\u001b[0mvalues\u001b[0m\u001b[1;33m,\u001b[0m \u001b[0mmapper\u001b[0m\u001b[1;33m)\u001b[0m\u001b[1;33m\u001b[0m\u001b[1;33m\u001b[0m\u001b[0m\n\u001b[0m\u001b[0;32m   1161\u001b[0m \u001b[1;33m\u001b[0m\u001b[0m\n\u001b[0;32m   1162\u001b[0m         \u001b[1;32mreturn\u001b[0m \u001b[0mnew_values\u001b[0m\u001b[1;33m\u001b[0m\u001b[1;33m\u001b[0m\u001b[0m\n",
      "\u001b[1;32mpandas\\_libs\\lib.pyx\u001b[0m in \u001b[0;36mpandas._libs.lib.map_infer\u001b[1;34m()\u001b[0m\n",
      "\u001b[1;32m<ipython-input-10-707a17cac601>\u001b[0m in \u001b[0;36m<lambda>\u001b[1;34m(date)\u001b[0m\n\u001b[0;32m      8\u001b[0m \u001b[1;33m\u001b[0m\u001b[0m\n\u001b[0;32m      9\u001b[0m twitter_df['twt_dates'] = twitter_df['twt_dates'].map(lambda date: \n\u001b[1;32m---> 10\u001b[1;33m                                                         \u001b[0mdate\u001b[0m\u001b[1;33m.\u001b[0m\u001b[0msplit\u001b[0m\u001b[1;33m(\u001b[0m\u001b[1;34m\"-\"\u001b[0m\u001b[1;33m,\u001b[0m \u001b[1;36m1\u001b[0m\u001b[1;33m)\u001b[0m\u001b[1;33m.\u001b[0m\u001b[0mpartition\u001b[0m\u001b[1;33m(\u001b[0m\u001b[1;34m'-'\u001b[0m\u001b[1;33m)\u001b[0m\u001b[1;33m[\u001b[0m\u001b[1;36m0\u001b[0m\u001b[1;33m]\u001b[0m \u001b[1;33m+\u001b[0m \u001b[1;34m'/'\u001b[0m \u001b[1;33m+\u001b[0m\u001b[1;33m\u001b[0m\u001b[1;33m\u001b[0m\u001b[0m\n\u001b[0m\u001b[0;32m     11\u001b[0m                                                         \u001b[0mdate\u001b[0m\u001b[1;33m.\u001b[0m\u001b[0msplit\u001b[0m\u001b[1;33m(\u001b[0m\u001b[1;34m\"-\"\u001b[0m\u001b[1;33m,\u001b[0m \u001b[1;36m1\u001b[0m\u001b[1;33m)\u001b[0m\u001b[1;33m.\u001b[0m\u001b[0msplit\u001b[0m\u001b[1;33m(\u001b[0m\u001b[1;34m\"-\"\u001b[0m\u001b[1;33m,\u001b[0m \u001b[1;36m1\u001b[0m\u001b[1;33m)\u001b[0m \u001b[1;33m+\u001b[0m \u001b[1;34m'/'\u001b[0m \u001b[1;33m+\u001b[0m\u001b[1;33m\u001b[0m\u001b[1;33m\u001b[0m\u001b[0m\n\u001b[0;32m     12\u001b[0m                                                         date.partition('-')[0])\n",
      "\u001b[1;31mAttributeError\u001b[0m: 'list' object has no attribute 'partition'"
     ]
    }
   ],
   "source": [
    "polling_df = pd.read_csv('data/approval_topline.csv')\n",
    "polling_df.set_index('modeldate', inplace=True)\n",
    "# access like - polling_df['']\n",
    "\n",
    "twitter_df = pd.read_csv('data/twitter_data.csv')\n",
    "\n",
    "# want to change the twitter dates to be same format as polling dates\n",
    "\n",
    "twitter_df['twt_dates'] = twitter_df['twt_dates'].apply(lambda date: \n",
    "                                                        date.split(\"-\", 1).partition('-')[0] + '/' +\n",
    "                                                        date.split(\"-\", 1).split(\"-\", 1) + '/' + \n",
    "                                                        date.partition('-')[0])"
   ]
  },
  {
   "cell_type": "code",
   "execution_count": 6,
   "metadata": {},
   "outputs": [
    {
     "output_type": "execute_result",
     "data": {
      "text/plain": [
       "   Unnamed: 0            twt_dates  \\\n",
       "0           0  2021-04-24 16:38:57   \n",
       "1           1  2021-04-23 15:58:13   \n",
       "2           2  2021-04-22 17:17:26   \n",
       "3           3  2021-04-22 17:17:12   \n",
       "4           4  2021-04-21 16:30:38   \n",
       "\n",
       "                                           twt_texts  twt_rtwct  twt_favct  \n",
       "0  Let’s close the digital divide once and for al...       1771      13735  \n",
       "1  Heading back to Georgia with @DrBiden next Thu...       3704      47202  \n",
       "2  RT @WhiteHouse: Before taking office, Presiden...       2386          0  \n",
       "3  RT @POTUS: America is back. We rejoined the Pa...      18090          0  \n",
       "4  RT @POTUS: The guilty verdict does not bring b...       3814          0  "
      ],
      "text/html": "<div>\n<style scoped>\n    .dataframe tbody tr th:only-of-type {\n        vertical-align: middle;\n    }\n\n    .dataframe tbody tr th {\n        vertical-align: top;\n    }\n\n    .dataframe thead th {\n        text-align: right;\n    }\n</style>\n<table border=\"1\" class=\"dataframe\">\n  <thead>\n    <tr style=\"text-align: right;\">\n      <th></th>\n      <th>Unnamed: 0</th>\n      <th>twt_dates</th>\n      <th>twt_texts</th>\n      <th>twt_rtwct</th>\n      <th>twt_favct</th>\n    </tr>\n  </thead>\n  <tbody>\n    <tr>\n      <th>0</th>\n      <td>0</td>\n      <td>2021-04-24 16:38:57</td>\n      <td>Let’s close the digital divide once and for al...</td>\n      <td>1771</td>\n      <td>13735</td>\n    </tr>\n    <tr>\n      <th>1</th>\n      <td>1</td>\n      <td>2021-04-23 15:58:13</td>\n      <td>Heading back to Georgia with @DrBiden next Thu...</td>\n      <td>3704</td>\n      <td>47202</td>\n    </tr>\n    <tr>\n      <th>2</th>\n      <td>2</td>\n      <td>2021-04-22 17:17:26</td>\n      <td>RT @WhiteHouse: Before taking office, Presiden...</td>\n      <td>2386</td>\n      <td>0</td>\n    </tr>\n    <tr>\n      <th>3</th>\n      <td>3</td>\n      <td>2021-04-22 17:17:12</td>\n      <td>RT @POTUS: America is back. We rejoined the Pa...</td>\n      <td>18090</td>\n      <td>0</td>\n    </tr>\n    <tr>\n      <th>4</th>\n      <td>4</td>\n      <td>2021-04-21 16:30:38</td>\n      <td>RT @POTUS: The guilty verdict does not bring b...</td>\n      <td>3814</td>\n      <td>0</td>\n    </tr>\n  </tbody>\n</table>\n</div>"
     },
     "metadata": {},
     "execution_count": 6
    }
   ],
   "source": [
    "twitter_df.head()"
   ]
  },
  {
   "cell_type": "code",
   "execution_count": 7,
   "metadata": {},
   "outputs": [
    {
     "output_type": "execute_result",
     "data": {
      "text/plain": [
       "                     president   subgroup  approve_estimate  approve_hi  \\\n",
       "modeldate                                                                 \n",
       "4/23/2021  Joseph R. Biden Jr.     Voters         54.322518   59.948448   \n",
       "4/23/2021  Joseph R. Biden Jr.     Adults         53.173693   58.356746   \n",
       "4/23/2021  Joseph R. Biden Jr.  All polls         53.751111   59.197102   \n",
       "4/22/2021  Joseph R. Biden Jr.  All polls         53.266932   58.628734   \n",
       "4/22/2021  Joseph R. Biden Jr.     Adults         52.974175   58.188145   \n",
       "\n",
       "           approve_lo  disapprove_estimate  disapprove_hi  disapprove_lo  \\\n",
       "modeldate                                                                  \n",
       "4/23/2021   48.696589            40.641015      45.994519      35.287512   \n",
       "4/23/2021   47.990639            38.856646      43.030728      34.682564   \n",
       "4/23/2021   48.305121            39.913626      45.088861      34.738391   \n",
       "4/22/2021   47.905131            40.234692      45.676924      34.792459   \n",
       "4/22/2021   47.760206            38.880573      43.101932      34.659215   \n",
       "\n",
       "                      timestamp  \n",
       "modeldate                        \n",
       "4/23/2021  18:01:08 23 Apr 2021  \n",
       "4/23/2021  18:01:07 23 Apr 2021  \n",
       "4/23/2021  18:01:06 23 Apr 2021  \n",
       "4/22/2021  21:22:09 22 Apr 2021  \n",
       "4/22/2021  21:22:10 22 Apr 2021  "
      ],
      "text/html": "<div>\n<style scoped>\n    .dataframe tbody tr th:only-of-type {\n        vertical-align: middle;\n    }\n\n    .dataframe tbody tr th {\n        vertical-align: top;\n    }\n\n    .dataframe thead th {\n        text-align: right;\n    }\n</style>\n<table border=\"1\" class=\"dataframe\">\n  <thead>\n    <tr style=\"text-align: right;\">\n      <th></th>\n      <th>president</th>\n      <th>subgroup</th>\n      <th>approve_estimate</th>\n      <th>approve_hi</th>\n      <th>approve_lo</th>\n      <th>disapprove_estimate</th>\n      <th>disapprove_hi</th>\n      <th>disapprove_lo</th>\n      <th>timestamp</th>\n    </tr>\n    <tr>\n      <th>modeldate</th>\n      <th></th>\n      <th></th>\n      <th></th>\n      <th></th>\n      <th></th>\n      <th></th>\n      <th></th>\n      <th></th>\n      <th></th>\n    </tr>\n  </thead>\n  <tbody>\n    <tr>\n      <th>4/23/2021</th>\n      <td>Joseph R. Biden Jr.</td>\n      <td>Voters</td>\n      <td>54.322518</td>\n      <td>59.948448</td>\n      <td>48.696589</td>\n      <td>40.641015</td>\n      <td>45.994519</td>\n      <td>35.287512</td>\n      <td>18:01:08 23 Apr 2021</td>\n    </tr>\n    <tr>\n      <th>4/23/2021</th>\n      <td>Joseph R. Biden Jr.</td>\n      <td>Adults</td>\n      <td>53.173693</td>\n      <td>58.356746</td>\n      <td>47.990639</td>\n      <td>38.856646</td>\n      <td>43.030728</td>\n      <td>34.682564</td>\n      <td>18:01:07 23 Apr 2021</td>\n    </tr>\n    <tr>\n      <th>4/23/2021</th>\n      <td>Joseph R. Biden Jr.</td>\n      <td>All polls</td>\n      <td>53.751111</td>\n      <td>59.197102</td>\n      <td>48.305121</td>\n      <td>39.913626</td>\n      <td>45.088861</td>\n      <td>34.738391</td>\n      <td>18:01:06 23 Apr 2021</td>\n    </tr>\n    <tr>\n      <th>4/22/2021</th>\n      <td>Joseph R. Biden Jr.</td>\n      <td>All polls</td>\n      <td>53.266932</td>\n      <td>58.628734</td>\n      <td>47.905131</td>\n      <td>40.234692</td>\n      <td>45.676924</td>\n      <td>34.792459</td>\n      <td>21:22:09 22 Apr 2021</td>\n    </tr>\n    <tr>\n      <th>4/22/2021</th>\n      <td>Joseph R. Biden Jr.</td>\n      <td>Adults</td>\n      <td>52.974175</td>\n      <td>58.188145</td>\n      <td>47.760206</td>\n      <td>38.880573</td>\n      <td>43.101932</td>\n      <td>34.659215</td>\n      <td>21:22:10 22 Apr 2021</td>\n    </tr>\n  </tbody>\n</table>\n</div>"
     },
     "metadata": {},
     "execution_count": 7
    }
   ],
   "source": [
    "polling_df.head()"
   ]
  },
  {
   "cell_type": "code",
   "execution_count": null,
   "metadata": {},
   "outputs": [],
   "source": []
  }
 ]
}