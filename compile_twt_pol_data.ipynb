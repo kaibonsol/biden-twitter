{
 "metadata": {
  "language_info": {
   "codemirror_mode": {
    "name": "ipython",
    "version": 3
   },
   "file_extension": ".py",
   "mimetype": "text/x-python",
   "name": "python",
   "nbconvert_exporter": "python",
   "pygments_lexer": "ipython3",
   "version": "3.8.7"
  },
  "orig_nbformat": 2,
  "kernelspec": {
   "name": "python387jvsc74a57bd01e3fc3fd5cc6611b408713c484747d9500a6295d1233da3fe53fbb9b1a925342",
   "display_name": "Python 3.8.7 64-bit"
  },
  "metadata": {
   "interpreter": {
    "hash": "1e3fc3fd5cc6611b408713c484747d9500a6295d1233da3fe53fbb9b1a925342"
   }
  }
 },
 "nbformat": 4,
 "nbformat_minor": 2,
 "cells": [
  {
   "source": [
    "### Compile twitter and 538 polling data on Joe Biden \n",
    "want to compile by the enddate in polling data to tweet date in twitter data"
   ],
   "cell_type": "markdown",
   "metadata": {}
  },
  {
   "cell_type": "code",
   "execution_count": 1,
   "metadata": {},
   "outputs": [],
   "source": [
    "import pandas as pd"
   ]
  },
  {
   "source": [
    "Note: retweets all have RT at the start of their twt_texts, but also a twt_favct of 0 (this is universally true)"
   ],
   "cell_type": "markdown",
   "metadata": {}
  },
  {
   "cell_type": "code",
   "execution_count": 44,
   "metadata": {},
   "outputs": [],
   "source": [
    "polling_df = pd.read_csv('data/approval_topline.csv')\n",
    "polling_df.set_index('modeldate', inplace=True)\n",
    "# access like - polling_df['']\n",
    "\n",
    "twitter_df = pd.read_csv('data/twitter_data.csv')\n",
    "\n",
    "# want to change the twitter dates to be same format as polling dates\n",
    "\n",
    "twitter_df['modeldate'] = twitter_df['modeldate'].map(lambda date: \n",
    "                                                        # cast to integer then back to string to get rid of potential 0's in number\n",
    "                                                        str(int(date.split(\"-\", 2)[1].partition('-')[0])) + '/' +\n",
    "                                                        date.split(\"-\", 3)[2].partition(' ')[0] + '/' + \n",
    "                                                        date.partition('-')[0])\n",
    "twitter_df.set_index('modeldate', inplace=True)"
   ]
  },
  {
   "source": [
    "Visualize some data"
   ],
   "cell_type": "markdown",
   "metadata": {}
  },
  {
   "cell_type": "code",
   "execution_count": 45,
   "metadata": {},
   "outputs": [
    {
     "output_type": "execute_result",
     "data": {
      "text/plain": [
       "           Unnamed: 0                                               text  \\\n",
       "modeldate                                                                  \n",
       "4/24/2021           0  Let’s close the digital divide once and for al...   \n",
       "4/23/2021           1  Heading back to Georgia with @DrBiden next Thu...   \n",
       "4/22/2021           2  RT @WhiteHouse: Before taking office, Presiden...   \n",
       "4/22/2021           3  RT @POTUS: America is back. We rejoined the Pa...   \n",
       "4/21/2021           4  RT @POTUS: The guilty verdict does not bring b...   \n",
       "\n",
       "           retweet_count  favorite_count  \n",
       "modeldate                                 \n",
       "4/24/2021           1771           13735  \n",
       "4/23/2021           3704           47202  \n",
       "4/22/2021           2386               0  \n",
       "4/22/2021          18090               0  \n",
       "4/21/2021           3814               0  "
      ],
      "text/html": "<div>\n<style scoped>\n    .dataframe tbody tr th:only-of-type {\n        vertical-align: middle;\n    }\n\n    .dataframe tbody tr th {\n        vertical-align: top;\n    }\n\n    .dataframe thead th {\n        text-align: right;\n    }\n</style>\n<table border=\"1\" class=\"dataframe\">\n  <thead>\n    <tr style=\"text-align: right;\">\n      <th></th>\n      <th>Unnamed: 0</th>\n      <th>text</th>\n      <th>retweet_count</th>\n      <th>favorite_count</th>\n    </tr>\n    <tr>\n      <th>modeldate</th>\n      <th></th>\n      <th></th>\n      <th></th>\n      <th></th>\n    </tr>\n  </thead>\n  <tbody>\n    <tr>\n      <th>4/24/2021</th>\n      <td>0</td>\n      <td>Let’s close the digital divide once and for al...</td>\n      <td>1771</td>\n      <td>13735</td>\n    </tr>\n    <tr>\n      <th>4/23/2021</th>\n      <td>1</td>\n      <td>Heading back to Georgia with @DrBiden next Thu...</td>\n      <td>3704</td>\n      <td>47202</td>\n    </tr>\n    <tr>\n      <th>4/22/2021</th>\n      <td>2</td>\n      <td>RT @WhiteHouse: Before taking office, Presiden...</td>\n      <td>2386</td>\n      <td>0</td>\n    </tr>\n    <tr>\n      <th>4/22/2021</th>\n      <td>3</td>\n      <td>RT @POTUS: America is back. We rejoined the Pa...</td>\n      <td>18090</td>\n      <td>0</td>\n    </tr>\n    <tr>\n      <th>4/21/2021</th>\n      <td>4</td>\n      <td>RT @POTUS: The guilty verdict does not bring b...</td>\n      <td>3814</td>\n      <td>0</td>\n    </tr>\n  </tbody>\n</table>\n</div>"
     },
     "metadata": {},
     "execution_count": 45
    }
   ],
   "source": [
    "twitter_df.head()"
   ]
  },
  {
   "cell_type": "code",
   "execution_count": 46,
   "metadata": {},
   "outputs": [
    {
     "output_type": "execute_result",
     "data": {
      "text/plain": [
       "                     president   subgroup  approve_estimate  approve_hi  \\\n",
       "modeldate                                                                 \n",
       "4/23/2021  Joseph R. Biden Jr.     Voters         54.322518   59.948448   \n",
       "4/23/2021  Joseph R. Biden Jr.     Adults         53.173693   58.356746   \n",
       "4/23/2021  Joseph R. Biden Jr.  All polls         53.751111   59.197102   \n",
       "4/22/2021  Joseph R. Biden Jr.  All polls         53.266932   58.628734   \n",
       "4/22/2021  Joseph R. Biden Jr.     Adults         52.974175   58.188145   \n",
       "\n",
       "           approve_lo  disapprove_estimate  disapprove_hi  disapprove_lo  \\\n",
       "modeldate                                                                  \n",
       "4/23/2021   48.696589            40.641015      45.994519      35.287512   \n",
       "4/23/2021   47.990639            38.856646      43.030728      34.682564   \n",
       "4/23/2021   48.305121            39.913626      45.088861      34.738391   \n",
       "4/22/2021   47.905131            40.234692      45.676924      34.792459   \n",
       "4/22/2021   47.760206            38.880573      43.101932      34.659215   \n",
       "\n",
       "                      timestamp  \n",
       "modeldate                        \n",
       "4/23/2021  18:01:08 23 Apr 2021  \n",
       "4/23/2021  18:01:07 23 Apr 2021  \n",
       "4/23/2021  18:01:06 23 Apr 2021  \n",
       "4/22/2021  21:22:09 22 Apr 2021  \n",
       "4/22/2021  21:22:10 22 Apr 2021  "
      ],
      "text/html": "<div>\n<style scoped>\n    .dataframe tbody tr th:only-of-type {\n        vertical-align: middle;\n    }\n\n    .dataframe tbody tr th {\n        vertical-align: top;\n    }\n\n    .dataframe thead th {\n        text-align: right;\n    }\n</style>\n<table border=\"1\" class=\"dataframe\">\n  <thead>\n    <tr style=\"text-align: right;\">\n      <th></th>\n      <th>president</th>\n      <th>subgroup</th>\n      <th>approve_estimate</th>\n      <th>approve_hi</th>\n      <th>approve_lo</th>\n      <th>disapprove_estimate</th>\n      <th>disapprove_hi</th>\n      <th>disapprove_lo</th>\n      <th>timestamp</th>\n    </tr>\n    <tr>\n      <th>modeldate</th>\n      <th></th>\n      <th></th>\n      <th></th>\n      <th></th>\n      <th></th>\n      <th></th>\n      <th></th>\n      <th></th>\n      <th></th>\n    </tr>\n  </thead>\n  <tbody>\n    <tr>\n      <th>4/23/2021</th>\n      <td>Joseph R. Biden Jr.</td>\n      <td>Voters</td>\n      <td>54.322518</td>\n      <td>59.948448</td>\n      <td>48.696589</td>\n      <td>40.641015</td>\n      <td>45.994519</td>\n      <td>35.287512</td>\n      <td>18:01:08 23 Apr 2021</td>\n    </tr>\n    <tr>\n      <th>4/23/2021</th>\n      <td>Joseph R. Biden Jr.</td>\n      <td>Adults</td>\n      <td>53.173693</td>\n      <td>58.356746</td>\n      <td>47.990639</td>\n      <td>38.856646</td>\n      <td>43.030728</td>\n      <td>34.682564</td>\n      <td>18:01:07 23 Apr 2021</td>\n    </tr>\n    <tr>\n      <th>4/23/2021</th>\n      <td>Joseph R. Biden Jr.</td>\n      <td>All polls</td>\n      <td>53.751111</td>\n      <td>59.197102</td>\n      <td>48.305121</td>\n      <td>39.913626</td>\n      <td>45.088861</td>\n      <td>34.738391</td>\n      <td>18:01:06 23 Apr 2021</td>\n    </tr>\n    <tr>\n      <th>4/22/2021</th>\n      <td>Joseph R. Biden Jr.</td>\n      <td>All polls</td>\n      <td>53.266932</td>\n      <td>58.628734</td>\n      <td>47.905131</td>\n      <td>40.234692</td>\n      <td>45.676924</td>\n      <td>34.792459</td>\n      <td>21:22:09 22 Apr 2021</td>\n    </tr>\n    <tr>\n      <th>4/22/2021</th>\n      <td>Joseph R. Biden Jr.</td>\n      <td>Adults</td>\n      <td>52.974175</td>\n      <td>58.188145</td>\n      <td>47.760206</td>\n      <td>38.880573</td>\n      <td>43.101932</td>\n      <td>34.659215</td>\n      <td>21:22:10 22 Apr 2021</td>\n    </tr>\n  </tbody>\n</table>\n</div>"
     },
     "metadata": {},
     "execution_count": 46
    }
   ],
   "source": [
    "polling_df.head()"
   ]
  },
  {
   "source": [
    "combine the dataframes on date! use inner join on modeldate"
   ],
   "cell_type": "markdown",
   "metadata": {}
  },
  {
   "cell_type": "code",
   "execution_count": 58,
   "metadata": {},
   "outputs": [
    {
     "output_type": "execute_result",
     "data": {
      "text/plain": [
       "           Unnamed: 0                                               text  \\\n",
       "modeldate                                                                  \n",
       "4/23/2021           1  Heading back to Georgia with @DrBiden next Thu...   \n",
       "4/23/2021           1  Heading back to Georgia with @DrBiden next Thu...   \n",
       "4/23/2021           1  Heading back to Georgia with @DrBiden next Thu...   \n",
       "4/22/2021           2  RT @WhiteHouse: Before taking office, Presiden...   \n",
       "4/22/2021           2  RT @WhiteHouse: Before taking office, Presiden...   \n",
       "\n",
       "           retweet_count  favorite_count            president   subgroup  \\\n",
       "modeldate                                                                  \n",
       "4/23/2021           3704           47202  Joseph R. Biden Jr.     Voters   \n",
       "4/23/2021           3704           47202  Joseph R. Biden Jr.     Adults   \n",
       "4/23/2021           3704           47202  Joseph R. Biden Jr.  All polls   \n",
       "4/22/2021           2386               0  Joseph R. Biden Jr.  All polls   \n",
       "4/22/2021           2386               0  Joseph R. Biden Jr.     Adults   \n",
       "\n",
       "           approve_estimate  approve_hi  approve_lo  disapprove_estimate  \\\n",
       "modeldate                                                                  \n",
       "4/23/2021         54.322518   59.948448   48.696589            40.641015   \n",
       "4/23/2021         53.173693   58.356746   47.990639            38.856646   \n",
       "4/23/2021         53.751111   59.197102   48.305121            39.913626   \n",
       "4/22/2021         53.266932   58.628734   47.905131            40.234692   \n",
       "4/22/2021         52.974175   58.188145   47.760206            38.880573   \n",
       "\n",
       "           disapprove_hi  disapprove_lo             timestamp  \n",
       "modeldate                                                      \n",
       "4/23/2021      45.994519      35.287512  18:01:08 23 Apr 2021  \n",
       "4/23/2021      43.030728      34.682564  18:01:07 23 Apr 2021  \n",
       "4/23/2021      45.088861      34.738391  18:01:06 23 Apr 2021  \n",
       "4/22/2021      45.676924      34.792459  21:22:09 22 Apr 2021  \n",
       "4/22/2021      43.101932      34.659215  21:22:10 22 Apr 2021  "
      ],
      "text/html": "<div>\n<style scoped>\n    .dataframe tbody tr th:only-of-type {\n        vertical-align: middle;\n    }\n\n    .dataframe tbody tr th {\n        vertical-align: top;\n    }\n\n    .dataframe thead th {\n        text-align: right;\n    }\n</style>\n<table border=\"1\" class=\"dataframe\">\n  <thead>\n    <tr style=\"text-align: right;\">\n      <th></th>\n      <th>Unnamed: 0</th>\n      <th>text</th>\n      <th>retweet_count</th>\n      <th>favorite_count</th>\n      <th>president</th>\n      <th>subgroup</th>\n      <th>approve_estimate</th>\n      <th>approve_hi</th>\n      <th>approve_lo</th>\n      <th>disapprove_estimate</th>\n      <th>disapprove_hi</th>\n      <th>disapprove_lo</th>\n      <th>timestamp</th>\n    </tr>\n    <tr>\n      <th>modeldate</th>\n      <th></th>\n      <th></th>\n      <th></th>\n      <th></th>\n      <th></th>\n      <th></th>\n      <th></th>\n      <th></th>\n      <th></th>\n      <th></th>\n      <th></th>\n      <th></th>\n      <th></th>\n    </tr>\n  </thead>\n  <tbody>\n    <tr>\n      <th>4/23/2021</th>\n      <td>1</td>\n      <td>Heading back to Georgia with @DrBiden next Thu...</td>\n      <td>3704</td>\n      <td>47202</td>\n      <td>Joseph R. Biden Jr.</td>\n      <td>Voters</td>\n      <td>54.322518</td>\n      <td>59.948448</td>\n      <td>48.696589</td>\n      <td>40.641015</td>\n      <td>45.994519</td>\n      <td>35.287512</td>\n      <td>18:01:08 23 Apr 2021</td>\n    </tr>\n    <tr>\n      <th>4/23/2021</th>\n      <td>1</td>\n      <td>Heading back to Georgia with @DrBiden next Thu...</td>\n      <td>3704</td>\n      <td>47202</td>\n      <td>Joseph R. Biden Jr.</td>\n      <td>Adults</td>\n      <td>53.173693</td>\n      <td>58.356746</td>\n      <td>47.990639</td>\n      <td>38.856646</td>\n      <td>43.030728</td>\n      <td>34.682564</td>\n      <td>18:01:07 23 Apr 2021</td>\n    </tr>\n    <tr>\n      <th>4/23/2021</th>\n      <td>1</td>\n      <td>Heading back to Georgia with @DrBiden next Thu...</td>\n      <td>3704</td>\n      <td>47202</td>\n      <td>Joseph R. Biden Jr.</td>\n      <td>All polls</td>\n      <td>53.751111</td>\n      <td>59.197102</td>\n      <td>48.305121</td>\n      <td>39.913626</td>\n      <td>45.088861</td>\n      <td>34.738391</td>\n      <td>18:01:06 23 Apr 2021</td>\n    </tr>\n    <tr>\n      <th>4/22/2021</th>\n      <td>2</td>\n      <td>RT @WhiteHouse: Before taking office, Presiden...</td>\n      <td>2386</td>\n      <td>0</td>\n      <td>Joseph R. Biden Jr.</td>\n      <td>All polls</td>\n      <td>53.266932</td>\n      <td>58.628734</td>\n      <td>47.905131</td>\n      <td>40.234692</td>\n      <td>45.676924</td>\n      <td>34.792459</td>\n      <td>21:22:09 22 Apr 2021</td>\n    </tr>\n    <tr>\n      <th>4/22/2021</th>\n      <td>2</td>\n      <td>RT @WhiteHouse: Before taking office, Presiden...</td>\n      <td>2386</td>\n      <td>0</td>\n      <td>Joseph R. Biden Jr.</td>\n      <td>Adults</td>\n      <td>52.974175</td>\n      <td>58.188145</td>\n      <td>47.760206</td>\n      <td>38.880573</td>\n      <td>43.101932</td>\n      <td>34.659215</td>\n      <td>21:22:10 22 Apr 2021</td>\n    </tr>\n  </tbody>\n</table>\n</div>"
     },
     "metadata": {},
     "execution_count": 58
    }
   ],
   "source": [
    "final_df = pd.merge(twitter_df, polling_df, on=\"modeldate\")\n",
    "final_df.head()"
   ]
  },
  {
   "source": [
    "clean up time!!"
   ],
   "cell_type": "markdown",
   "metadata": {}
  },
  {
   "cell_type": "code",
   "execution_count": 59,
   "metadata": {},
   "outputs": [
    {
     "output_type": "execute_result",
     "data": {
      "text/plain": [
       "           Unnamed: 0                                               text  \\\n",
       "modeldate                                                                  \n",
       "4/23/2021           1  Heading back to Georgia with @DrBiden next Thu...   \n",
       "4/23/2021           1  Heading back to Georgia with @DrBiden next Thu...   \n",
       "4/23/2021           1  Heading back to Georgia with @DrBiden next Thu...   \n",
       "4/22/2021           2  RT @WhiteHouse: Before taking office, Presiden...   \n",
       "4/22/2021           2  RT @WhiteHouse: Before taking office, Presiden...   \n",
       "\n",
       "           retweet_count  favorite_count   subgroup  approve_estimate  \\\n",
       "modeldate                                                               \n",
       "4/23/2021           3704           47202     Voters         54.322518   \n",
       "4/23/2021           3704           47202     Adults         53.173693   \n",
       "4/23/2021           3704           47202  All polls         53.751111   \n",
       "4/22/2021           2386               0  All polls         53.266932   \n",
       "4/22/2021           2386               0     Adults         52.974175   \n",
       "\n",
       "           disapprove_estimate  \n",
       "modeldate                       \n",
       "4/23/2021            40.641015  \n",
       "4/23/2021            38.856646  \n",
       "4/23/2021            39.913626  \n",
       "4/22/2021            40.234692  \n",
       "4/22/2021            38.880573  "
      ],
      "text/html": "<div>\n<style scoped>\n    .dataframe tbody tr th:only-of-type {\n        vertical-align: middle;\n    }\n\n    .dataframe tbody tr th {\n        vertical-align: top;\n    }\n\n    .dataframe thead th {\n        text-align: right;\n    }\n</style>\n<table border=\"1\" class=\"dataframe\">\n  <thead>\n    <tr style=\"text-align: right;\">\n      <th></th>\n      <th>Unnamed: 0</th>\n      <th>text</th>\n      <th>retweet_count</th>\n      <th>favorite_count</th>\n      <th>subgroup</th>\n      <th>approve_estimate</th>\n      <th>disapprove_estimate</th>\n    </tr>\n    <tr>\n      <th>modeldate</th>\n      <th></th>\n      <th></th>\n      <th></th>\n      <th></th>\n      <th></th>\n      <th></th>\n      <th></th>\n    </tr>\n  </thead>\n  <tbody>\n    <tr>\n      <th>4/23/2021</th>\n      <td>1</td>\n      <td>Heading back to Georgia with @DrBiden next Thu...</td>\n      <td>3704</td>\n      <td>47202</td>\n      <td>Voters</td>\n      <td>54.322518</td>\n      <td>40.641015</td>\n    </tr>\n    <tr>\n      <th>4/23/2021</th>\n      <td>1</td>\n      <td>Heading back to Georgia with @DrBiden next Thu...</td>\n      <td>3704</td>\n      <td>47202</td>\n      <td>Adults</td>\n      <td>53.173693</td>\n      <td>38.856646</td>\n    </tr>\n    <tr>\n      <th>4/23/2021</th>\n      <td>1</td>\n      <td>Heading back to Georgia with @DrBiden next Thu...</td>\n      <td>3704</td>\n      <td>47202</td>\n      <td>All polls</td>\n      <td>53.751111</td>\n      <td>39.913626</td>\n    </tr>\n    <tr>\n      <th>4/22/2021</th>\n      <td>2</td>\n      <td>RT @WhiteHouse: Before taking office, Presiden...</td>\n      <td>2386</td>\n      <td>0</td>\n      <td>All polls</td>\n      <td>53.266932</td>\n      <td>40.234692</td>\n    </tr>\n    <tr>\n      <th>4/22/2021</th>\n      <td>2</td>\n      <td>RT @WhiteHouse: Before taking office, Presiden...</td>\n      <td>2386</td>\n      <td>0</td>\n      <td>Adults</td>\n      <td>52.974175</td>\n      <td>38.880573</td>\n    </tr>\n  </tbody>\n</table>\n</div>"
     },
     "metadata": {},
     "execution_count": 59
    }
   ],
   "source": [
    "# delete columns I don't care for, just using the estimates\n",
    "final_df.drop(['president', 'timestamp', 'approve_hi', 'approve_lo', 'disapprove_hi', 'disapprove_lo'], axis=1, inplace=True)\n",
    "final_df.head()"
   ]
  },
  {
   "cell_type": "code",
   "execution_count": 60,
   "metadata": {},
   "outputs": [
    {
     "output_type": "execute_result",
     "data": {
      "text/plain": [
       "           Unnamed: 0                                               text  \\\n",
       "modeldate                                                                  \n",
       "4/23/2021           1  Heading back to Georgia with @DrBiden next Thu...   \n",
       "4/22/2021           2  RT @WhiteHouse: Before taking office, Presiden...   \n",
       "4/22/2021           3  RT @POTUS: America is back. We rejoined the Pa...   \n",
       "4/21/2021           4  RT @POTUS: The guilty verdict does not bring b...   \n",
       "4/20/2021           5  RT @POTUS: Today, a jury in Minnesota found fo...   \n",
       "\n",
       "           retweet_count  favorite_count  approve_estimate  \\\n",
       "modeldate                                                    \n",
       "4/23/2021           3704           47202         53.751111   \n",
       "4/22/2021           2386               0         53.266932   \n",
       "4/22/2021          18090               0         53.266932   \n",
       "4/21/2021           3814               0         53.431994   \n",
       "4/20/2021           8597               0         53.455244   \n",
       "\n",
       "           disapprove_estimate  \n",
       "modeldate                       \n",
       "4/23/2021            39.913626  \n",
       "4/22/2021            40.234692  \n",
       "4/22/2021            40.234692  \n",
       "4/21/2021            40.051306  \n",
       "4/20/2021            40.625908  "
      ],
      "text/html": "<div>\n<style scoped>\n    .dataframe tbody tr th:only-of-type {\n        vertical-align: middle;\n    }\n\n    .dataframe tbody tr th {\n        vertical-align: top;\n    }\n\n    .dataframe thead th {\n        text-align: right;\n    }\n</style>\n<table border=\"1\" class=\"dataframe\">\n  <thead>\n    <tr style=\"text-align: right;\">\n      <th></th>\n      <th>Unnamed: 0</th>\n      <th>text</th>\n      <th>retweet_count</th>\n      <th>favorite_count</th>\n      <th>approve_estimate</th>\n      <th>disapprove_estimate</th>\n    </tr>\n    <tr>\n      <th>modeldate</th>\n      <th></th>\n      <th></th>\n      <th></th>\n      <th></th>\n      <th></th>\n      <th></th>\n    </tr>\n  </thead>\n  <tbody>\n    <tr>\n      <th>4/23/2021</th>\n      <td>1</td>\n      <td>Heading back to Georgia with @DrBiden next Thu...</td>\n      <td>3704</td>\n      <td>47202</td>\n      <td>53.751111</td>\n      <td>39.913626</td>\n    </tr>\n    <tr>\n      <th>4/22/2021</th>\n      <td>2</td>\n      <td>RT @WhiteHouse: Before taking office, Presiden...</td>\n      <td>2386</td>\n      <td>0</td>\n      <td>53.266932</td>\n      <td>40.234692</td>\n    </tr>\n    <tr>\n      <th>4/22/2021</th>\n      <td>3</td>\n      <td>RT @POTUS: America is back. We rejoined the Pa...</td>\n      <td>18090</td>\n      <td>0</td>\n      <td>53.266932</td>\n      <td>40.234692</td>\n    </tr>\n    <tr>\n      <th>4/21/2021</th>\n      <td>4</td>\n      <td>RT @POTUS: The guilty verdict does not bring b...</td>\n      <td>3814</td>\n      <td>0</td>\n      <td>53.431994</td>\n      <td>40.051306</td>\n    </tr>\n    <tr>\n      <th>4/20/2021</th>\n      <td>5</td>\n      <td>RT @POTUS: Today, a jury in Minnesota found fo...</td>\n      <td>8597</td>\n      <td>0</td>\n      <td>53.455244</td>\n      <td>40.625908</td>\n    </tr>\n  </tbody>\n</table>\n</div>"
     },
     "metadata": {},
     "execution_count": 60
    }
   ],
   "source": [
    "# only want data points where subgroup is = All polls, then we can delete subgroup\n",
    "final_df = final_df[final_df['subgroup'] == \"All polls\"]\n",
    "final_df.drop('subgroup', axis=1, inplace=True)\n",
    "final_df.head()"
   ]
  },
  {
   "cell_type": "code",
   "execution_count": 61,
   "metadata": {},
   "outputs": [],
   "source": [
    "final_df.to_csv('data/twitter_poll.csv')"
   ]
  }
 ]
}