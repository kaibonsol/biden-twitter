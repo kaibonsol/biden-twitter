{
 "metadata": {
  "language_info": {
   "codemirror_mode": {
    "name": "ipython",
    "version": 3
   },
   "file_extension": ".py",
   "mimetype": "text/x-python",
   "name": "python",
   "nbconvert_exporter": "python",
   "pygments_lexer": "ipython3",
   "version": "3.8.7"
  },
  "orig_nbformat": 2,
  "kernelspec": {
   "name": "python3",
   "display_name": "Python 3.8.7 64-bit",
   "metadata": {
    "interpreter": {
     "hash": "1e3fc3fd5cc6611b408713c484747d9500a6295d1233da3fe53fbb9b1a925342"
    }
   }
  }
 },
 "nbformat": 4,
 "nbformat_minor": 2,
 "cells": [
  {
   "source": [
    "### Collect Twitter Data\n"
   ],
   "cell_type": "markdown",
   "metadata": {}
  },
  {
   "cell_type": "code",
   "execution_count": 1,
   "metadata": {},
   "outputs": [],
   "source": [
    "import tweepy\n",
    "import webbrowser\n",
    "import numpy as np\n",
    "import pandas as pd"
   ]
  },
  {
   "source": [
    "Connect to Twitter API using tweepy"
   ],
   "cell_type": "markdown",
   "metadata": {}
  },
  {
   "cell_type": "code",
   "execution_count": 2,
   "metadata": {},
   "outputs": [],
   "source": [
    "def twitter_connect():\n",
    "    auth = tweepy.OAuthHandler(\"8ypFgud3KOVujvYabjndkBRfm\", \"D8VS3yBDRh5mv75PZzTh8AhsyDI1KUCQTqaQu91uU1DTdTkCOP\")\n",
    "    try:\n",
    "        redirect_url = auth.get_authorization_url()\n",
    "    except tweepy.TweepError:\n",
    "        print(\"Error! Failed to get request token.\")\n",
    "    webbrowser.open(redirect_url, new=2)\n",
    "\n",
    "    verifier = input('Verifier: ')\n",
    "\n",
    "    auth.get_access_token(verifier)\n",
    "    api = tweepy.API(auth, wait_on_rate_limit=True, wait_on_rate_limit_notify=True)\n",
    "    return api\n",
    "    "
   ]
  },
  {
   "cell_type": "code",
   "execution_count": 3,
   "metadata": {},
   "outputs": [],
   "source": [
    "api = twitter_connect()"
   ]
  },
  {
   "source": [
    "Get Twitter data from Joe Biden's account"
   ],
   "cell_type": "markdown",
   "metadata": {}
  },
  {
   "cell_type": "code",
   "execution_count": 9,
   "metadata": {},
   "outputs": [],
   "source": [
    "def get_biden_tweets():\n",
    "    return tweepy.Cursor(api.user_timeline, screen_name='@JoeBiden', tweet_mode=\"extended\").items()"
   ]
  },
  {
   "cell_type": "code",
   "execution_count": 12,
   "metadata": {
    "tags": []
   },
   "outputs": [],
   "source": [
    "twitter_data = get_biden_tweets()\n",
    "# get useful data\n",
    "twt_texts = []\n",
    "twt_dates = []\n",
    "twt_rtwct = []\n",
    "twt_favct = []\n",
    "\n",
    "for tweet in twitter_data:\n",
    "    twt_texts.append(tweet.full_text)\n",
    "    twt_dates.append(tweet.created_at)\n",
    "    twt_rtwct.append(tweet.retweet_count)\n",
    "    twt_favct.append(tweet.favorite_count)\n"
   ]
  },
  {
   "cell_type": "code",
   "execution_count": 13,
   "metadata": {},
   "outputs": [
    {
     "output_type": "stream",
     "name": "stdout",
     "text": [
      "1780\n1780\n1780\n1780\n"
     ]
    }
   ],
   "source": [
    "print(len(twt_texts))\n",
    "print(len(twt_dates))\n",
    "print(len(twt_rtwct))\n",
    "print(len(twt_favct))"
   ]
  },
  {
   "cell_type": "code",
   "execution_count": 14,
   "metadata": {
    "tags": [
     "outputPrepend"
    ]
   },
   "outputs": [
    {
     "output_type": "stream",
     "name": "stdout",
     "text": [
      "time.datetime(2020, 9, 30, 23, 19, 49), datetime.datetime(2020, 9, 30, 22, 30), datetime.datetime(2020, 9, 30, 21, 52, 17), datetime.datetime(2020, 9, 30, 21, 48), datetime.datetime(2020, 9, 30, 21, 21), datetime.datetime(2020, 9, 30, 19, 59), datetime.datetime(2020, 9, 30, 18, 55, 14), datetime.datetime(2020, 9, 30, 18, 37), datetime.datetime(2020, 9, 30, 18, 2), datetime.datetime(2020, 9, 30, 17, 46), datetime.datetime(2020, 9, 30, 17, 7, 25), datetime.datetime(2020, 9, 30, 16, 24, 7), datetime.datetime(2020, 9, 30, 14, 1, 43), datetime.datetime(2020, 9, 30, 12, 15), datetime.datetime(2020, 9, 30, 11, 35), datetime.datetime(2020, 9, 30, 3, 32), datetime.datetime(2020, 9, 30, 3, 19), datetime.datetime(2020, 9, 30, 2, 58), datetime.datetime(2020, 9, 30, 2, 55), datetime.datetime(2020, 9, 30, 2, 54), datetime.datetime(2020, 9, 30, 2, 52), datetime.datetime(2020, 9, 30, 2, 48), datetime.datetime(2020, 9, 30, 2, 36), datetime.datetime(2020, 9, 30, 2, 32), datetime.datetime(2020, 9, 30, 2, 22), datetime.datetime(2020, 9, 30, 2, 21), datetime.datetime(2020, 9, 30, 2, 11), datetime.datetime(2020, 9, 30, 2, 9), datetime.datetime(2020, 9, 30, 2, 7), datetime.datetime(2020, 9, 30, 2, 6, 56), datetime.datetime(2020, 9, 30, 2, 5), datetime.datetime(2020, 9, 30, 2, 2), datetime.datetime(2020, 9, 30, 1, 50), datetime.datetime(2020, 9, 30, 1, 49), datetime.datetime(2020, 9, 30, 1, 36), datetime.datetime(2020, 9, 30, 1, 33), datetime.datetime(2020, 9, 30, 1, 29), datetime.datetime(2020, 9, 30, 1, 25), datetime.datetime(2020, 9, 30, 0, 45), datetime.datetime(2020, 9, 30, 0, 10), datetime.datetime(2020, 9, 29, 23, 25), datetime.datetime(2020, 9, 29, 23, 0, 1), datetime.datetime(2020, 9, 29, 22, 5), datetime.datetime(2020, 9, 29, 20, 45), datetime.datetime(2020, 9, 29, 20, 6), datetime.datetime(2020, 9, 29, 17, 43), datetime.datetime(2020, 9, 29, 17, 12, 54), datetime.datetime(2020, 9, 29, 15, 18), datetime.datetime(2020, 9, 29, 14, 32), datetime.datetime(2020, 9, 29, 1, 15), datetime.datetime(2020, 9, 29, 0, 30), datetime.datetime(2020, 9, 28, 23, 59), datetime.datetime(2020, 9, 28, 23, 10), datetime.datetime(2020, 9, 28, 21, 40), datetime.datetime(2020, 9, 28, 20, 0, 1), datetime.datetime(2020, 9, 28, 18, 46, 51), datetime.datetime(2020, 9, 28, 18, 15), datetime.datetime(2020, 9, 28, 17, 7), datetime.datetime(2020, 9, 28, 14, 15), datetime.datetime(2020, 9, 28, 2, 8, 2), datetime.datetime(2020, 9, 27, 23, 5), datetime.datetime(2020, 9, 27, 21, 15), datetime.datetime(2020, 9, 27, 20, 20), datetime.datetime(2020, 9, 27, 18, 50, 39), datetime.datetime(2020, 9, 27, 17, 31, 44), datetime.datetime(2020, 9, 27, 16, 5, 56), datetime.datetime(2020, 9, 27, 15, 15), datetime.datetime(2020, 9, 27, 12, 45, 57), datetime.datetime(2020, 9, 26, 23, 50), datetime.datetime(2020, 9, 26, 23, 0), datetime.datetime(2020, 9, 26, 22, 15), datetime.datetime(2020, 9, 26, 21, 24), datetime.datetime(2020, 9, 26, 20, 15), datetime.datetime(2020, 9, 26, 18, 10, 56), datetime.datetime(2020, 9, 26, 17, 30), datetime.datetime(2020, 9, 26, 16, 7), datetime.datetime(2020, 9, 26, 14, 57), datetime.datetime(2020, 9, 26, 0, 15), datetime.datetime(2020, 9, 25, 22, 28), datetime.datetime(2020, 9, 25, 22, 5), datetime.datetime(2020, 9, 25, 21, 0, 1), datetime.datetime(2020, 9, 25, 19, 44), datetime.datetime(2020, 9, 25, 18, 31), datetime.datetime(2020, 9, 25, 17, 8), datetime.datetime(2020, 9, 25, 15, 22), datetime.datetime(2020, 9, 24, 23, 54, 15), datetime.datetime(2020, 9, 24, 22, 40), datetime.datetime(2020, 9, 24, 22, 12, 5), datetime.datetime(2020, 9, 24, 20, 56, 55), datetime.datetime(2020, 9, 24, 20, 49, 47), datetime.datetime(2020, 9, 24, 20, 33, 1), datetime.datetime(2020, 9, 24, 20, 32, 14), datetime.datetime(2020, 9, 24, 20, 6), datetime.datetime(2020, 9, 24, 16, 10), datetime.datetime(2020, 9, 24, 3, 5), datetime.datetime(2020, 9, 24, 2, 40), datetime.datetime(2020, 9, 24, 2, 20), datetime.datetime(2020, 9, 24, 2, 7), datetime.datetime(2020, 9, 23, 16, 57, 21), datetime.datetime(2020, 9, 23, 16, 20), datetime.datetime(2020, 9, 23, 15, 25), datetime.datetime(2020, 9, 23, 14, 4), datetime.datetime(2020, 9, 23, 1, 35), datetime.datetime(2020, 9, 23, 0, 10), datetime.datetime(2020, 9, 23, 0, 3, 6), datetime.datetime(2020, 9, 22, 23, 39), datetime.datetime(2020, 9, 22, 23, 16, 32), datetime.datetime(2020, 9, 22, 23, 0, 1), datetime.datetime(2020, 9, 22, 20, 16), datetime.datetime(2020, 9, 22, 19, 30), datetime.datetime(2020, 9, 22, 18, 34), datetime.datetime(2020, 9, 22, 17, 1), datetime.datetime(2020, 9, 22, 15, 9), datetime.datetime(2020, 9, 22, 13, 17), datetime.datetime(2020, 9, 22, 0, 45), datetime.datetime(2020, 9, 22, 0, 5), datetime.datetime(2020, 9, 21, 23, 32), datetime.datetime(2020, 9, 21, 19, 25, 49), datetime.datetime(2020, 9, 21, 14, 30), datetime.datetime(2020, 9, 21, 0, 0), datetime.datetime(2020, 9, 20, 23, 34), datetime.datetime(2020, 9, 20, 22, 17, 23), datetime.datetime(2020, 9, 20, 22, 17, 23), datetime.datetime(2020, 9, 20, 20, 16), datetime.datetime(2020, 9, 20, 19, 13, 26), datetime.datetime(2020, 9, 20, 18, 41, 31), datetime.datetime(2020, 9, 20, 18, 22, 52), datetime.datetime(2020, 9, 20, 17, 0, 1), datetime.datetime(2020, 9, 20, 15, 31), datetime.datetime(2020, 9, 20, 1, 29), datetime.datetime(2020, 9, 19, 23, 10), datetime.datetime(2020, 9, 19, 22, 25), datetime.datetime(2020, 9, 19, 21, 1), datetime.datetime(2020, 9, 19, 19, 10), datetime.datetime(2020, 9, 19, 2, 38), datetime.datetime(2020, 9, 19, 2, 33), datetime.datetime(2020, 9, 18, 23, 15), datetime.datetime(2020, 9, 18, 23, 5), datetime.datetime(2020, 9, 18, 21, 59, 52), datetime.datetime(2020, 9, 18, 21, 59), datetime.datetime(2020, 9, 18, 21, 22), datetime.datetime(2020, 9, 18, 21, 1), datetime.datetime(2020, 9, 18, 20, 4, 53), datetime.datetime(2020, 9, 18, 18, 35), datetime.datetime(2020, 9, 18, 17, 6), datetime.datetime(2020, 9, 18, 15, 15), datetime.datetime(2020, 9, 18, 15, 4, 54), datetime.datetime(2020, 9, 18, 2, 14), datetime.datetime(2020, 9, 18, 2, 10), datetime.datetime(2020, 9, 18, 1, 51), datetime.datetime(2020, 9, 18, 1, 25), datetime.datetime(2020, 9, 18, 1, 21), datetime.datetime(2020, 9, 18, 1, 16), datetime.datetime(2020, 9, 18, 0, 59), datetime.datetime(2020, 9, 18, 0, 45), datetime.datetime(2020, 9, 18, 0, 33), datetime.datetime(2020, 9, 18, 0, 24), datetime.datetime(2020, 9, 18, 0, 19), datetime.datetime(2020, 9, 17, 23, 50), datetime.datetime(2020, 9, 17, 23, 20), datetime.datetime(2020, 9, 17, 22, 27), datetime.datetime(2020, 9, 17, 20, 46), datetime.datetime(2020, 9, 17, 19, 2, 11), datetime.datetime(2020, 9, 17, 18, 30), datetime.datetime(2020, 9, 17, 17, 20), datetime.datetime(2020, 9, 17, 15, 45), datetime.datetime(2020, 9, 17, 15, 14), datetime.datetime(2020, 9, 17, 14, 2), datetime.datetime(2020, 9, 17, 1, 25), datetime.datetime(2020, 9, 17, 1, 10), datetime.datetime(2020, 9, 17, 0, 10), datetime.datetime(2020, 9, 16, 23, 25), datetime.datetime(2020, 9, 16, 22, 20), datetime.datetime(2020, 9, 16, 20, 48), datetime.datetime(2020, 9, 16, 19, 52, 9), datetime.datetime(2020, 9, 16, 17, 10), datetime.datetime(2020, 9, 16, 15, 31), datetime.datetime(2020, 9, 16, 14, 58), datetime.datetime(2020, 9, 16, 14, 20), datetime.datetime(2020, 9, 16, 2, 20), datetime.datetime(2020, 9, 16, 2, 15), datetime.datetime(2020, 9, 16, 0, 42), datetime.datetime(2020, 9, 15, 23, 34, 56), datetime.datetime(2020, 9, 15, 22, 25), datetime.datetime(2020, 9, 15, 21, 35), datetime.datetime(2020, 9, 15, 21, 0, 1), datetime.datetime(2020, 9, 15, 19, 41), datetime.datetime(2020, 9, 15, 17, 59, 6), datetime.datetime(2020, 9, 15, 17, 33, 9), datetime.datetime(2020, 9, 15, 16, 53), datetime.datetime(2020, 9, 15, 15, 3), datetime.datetime(2020, 9, 15, 14, 50), datetime.datetime(2020, 9, 15, 1, 30), datetime.datetime(2020, 9, 15, 0, 35), datetime.datetime(2020, 9, 14, 23, 25), datetime.datetime(2020, 9, 14, 20, 45), datetime.datetime(2020, 9, 14, 20, 35), datetime.datetime(2020, 9, 14, 18, 44), datetime.datetime(2020, 9, 14, 17, 28, 55), datetime.datetime(2020, 9, 14, 16, 4), datetime.datetime(2020, 9, 14, 14, 15), datetime.datetime(2020, 9, 14, 0, 20), datetime.datetime(2020, 9, 13, 23, 30), datetime.datetime(2020, 9, 13, 22, 40), datetime.datetime(2020, 9, 13, 21, 43, 48), datetime.datetime(2020, 9, 13, 21, 42, 51), datetime.datetime(2020, 9, 13, 21, 42), datetime.datetime(2020, 9, 13, 21, 4), datetime.datetime(2020, 9, 13, 19, 40), datetime.datetime(2020, 9, 13, 15, 3), datetime.datetime(2020, 9, 13, 0, 12), datetime.datetime(2020, 9, 12, 23, 12), datetime.datetime(2020, 9, 12, 20, 30), datetime.datetime(2020, 9, 12, 19, 35), datetime.datetime(2020, 9, 12, 19, 12), datetime.datetime(2020, 9, 12, 18, 21), datetime.datetime(2020, 9, 12, 15, 0, 1), datetime.datetime(2020, 9, 11, 23, 33), datetime.datetime(2020, 9, 11, 17, 33, 5), datetime.datetime(2020, 9, 11, 17, 33, 5), datetime.datetime(2020, 9, 11, 17, 33, 5), datetime.datetime(2020, 9, 11, 17, 33, 4), datetime.datetime(2020, 9, 11, 16, 3, 20), datetime.datetime(2020, 9, 11, 0, 45), datetime.datetime(2020, 9, 11, 0, 5), datetime.datetime(2020, 9, 10, 21, 33), datetime.datetime(2020, 9, 10, 20, 45), datetime.datetime(2020, 9, 10, 20, 0, 1), datetime.datetime(2020, 9, 10, 18, 50), datetime.datetime(2020, 9, 10, 17, 50), datetime.datetime(2020, 9, 10, 16, 38), datetime.datetime(2020, 9, 10, 15, 54), datetime.datetime(2020, 9, 10, 13, 38), datetime.datetime(2020, 9, 10, 1, 28), datetime.datetime(2020, 9, 9, 23, 35), datetime.datetime(2020, 9, 9, 22, 45), datetime.datetime(2020, 9, 9, 21, 27), datetime.datetime(2020, 9, 9, 20, 18), datetime.datetime(2020, 9, 9, 18, 7), datetime.datetime(2020, 9, 9, 17, 41, 17), datetime.datetime(2020, 9, 9, 16, 20), datetime.datetime(2020, 9, 9, 15, 35), datetime.datetime(2020, 9, 9, 14, 20), datetime.datetime(2020, 9, 9, 0, 48, 26), datetime.datetime(2020, 9, 9, 0, 48, 26), datetime.datetime(2020, 9, 9, 0, 48, 26), datetime.datetime(2020, 9, 9, 0, 48, 25), datetime.datetime(2020, 9, 9, 0, 48, 25), datetime.datetime(2020, 9, 9, 0, 15), datetime.datetime(2020, 9, 8, 22, 56, 33), datetime.datetime(2020, 9, 8, 22, 28), datetime.datetime(2020, 9, 8, 20, 50), datetime.datetime(2020, 9, 8, 20, 0, 56), datetime.datetime(2020, 9, 8, 19, 21), datetime.datetime(2020, 9, 8, 18, 0), datetime.datetime(2020, 9, 8, 16, 30), datetime.datetime(2020, 9, 8, 14, 10), datetime.datetime(2020, 9, 8, 0, 10), datetime.datetime(2020, 9, 7, 22, 30), datetime.datetime(2020, 9, 7, 21, 15), datetime.datetime(2020, 9, 7, 19, 45), datetime.datetime(2020, 9, 7, 18, 24), datetime.datetime(2020, 9, 7, 16, 45), datetime.datetime(2020, 9, 7, 16, 6), datetime.datetime(2020, 9, 7, 14, 0, 1), datetime.datetime(2020, 9, 7, 0, 45), datetime.datetime(2020, 9, 7, 0, 20, 23), datetime.datetime(2020, 9, 6, 22, 15), datetime.datetime(2020, 9, 6, 20, 30), datetime.datetime(2020, 9, 6, 18, 30), datetime.datetime(2020, 9, 6, 16, 45), datetime.datetime(2020, 9, 6, 14, 33), datetime.datetime(2020, 9, 6, 0, 0, 1), datetime.datetime(2020, 9, 5, 22, 22), datetime.datetime(2020, 9, 5, 20, 32), datetime.datetime(2020, 9, 5, 19, 18), datetime.datetime(2020, 9, 5, 17, 50), datetime.datetime(2020, 9, 5, 0, 0), datetime.datetime(2020, 9, 4, 21, 9, 9), datetime.datetime(2020, 9, 4, 21, 9, 9), datetime.datetime(2020, 9, 4, 21, 9, 9), datetime.datetime(2020, 9, 4, 16, 54, 7), datetime.datetime(2020, 9, 4, 16, 40, 56), datetime.datetime(2020, 9, 4, 16, 4), datetime.datetime(2020, 9, 4, 1, 46), datetime.datetime(2020, 9, 4, 1, 0, 1), datetime.datetime(2020, 9, 4, 0, 24), datetime.datetime(2020, 9, 3, 23, 40), datetime.datetime(2020, 9, 3, 23, 7), datetime.datetime(2020, 9, 3, 21, 48), datetime.datetime(2020, 9, 3, 18, 53, 21), datetime.datetime(2020, 9, 3, 16, 38), datetime.datetime(2020, 9, 3, 15, 2), datetime.datetime(2020, 9, 3, 0, 55), datetime.datetime(2020, 9, 3, 0, 30), datetime.datetime(2020, 9, 2, 23, 35), datetime.datetime(2020, 9, 2, 22, 25), datetime.datetime(2020, 9, 2, 21, 15), datetime.datetime(2020, 9, 2, 19, 15), datetime.datetime(2020, 9, 2, 18, 4), datetime.datetime(2020, 9, 2, 17, 20, 37), datetime.datetime(2020, 9, 2, 16, 4, 47), datetime.datetime(2020, 9, 2, 15, 52), datetime.datetime(2020, 9, 2, 14, 20), datetime.datetime(2020, 9, 1, 23, 34), datetime.datetime(2020, 9, 1, 22, 14), datetime.datetime(2020, 9, 1, 20, 21), datetime.datetime(2020, 9, 1, 18, 48), datetime.datetime(2020, 9, 1, 17, 8), datetime.datetime(2020, 9, 1, 16, 13, 25), datetime.datetime(2020, 9, 1, 15, 3, 59), datetime.datetime(2020, 9, 1, 14, 34), datetime.datetime(2020, 9, 1, 1, 50, 10), datetime.datetime(2020, 9, 1, 1, 40), datetime.datetime(2020, 9, 1, 1, 30), datetime.datetime(2020, 9, 1, 1, 20, 25), datetime.datetime(2020, 9, 1, 1, 20, 25), datetime.datetime(2020, 9, 1, 1, 0), datetime.datetime(2020, 9, 1, 0, 30), datetime.datetime(2020, 8, 31, 23, 59), datetime.datetime(2020, 8, 31, 23, 30), datetime.datetime(2020, 8, 31, 23, 2), datetime.datetime(2020, 8, 31, 22, 23), datetime.datetime(2020, 8, 31, 18, 26), datetime.datetime(2020, 8, 31, 18, 13, 23), datetime.datetime(2020, 8, 31, 18, 7), datetime.datetime(2020, 8, 31, 18, 2), datetime.datetime(2020, 8, 31, 17, 57), datetime.datetime(2020, 8, 31, 17, 52), datetime.datetime(2020, 8, 31, 17, 46), datetime.datetime(2020, 8, 31, 17, 38, 26), datetime.datetime(2020, 8, 31, 16, 32), datetime.datetime(2020, 8, 31, 15, 52), datetime.datetime(2020, 8, 31, 15, 0, 1), datetime.datetime(2020, 8, 31, 12, 4), datetime.datetime(2020, 8, 30, 23, 48), datetime.datetime(2020, 8, 30, 23, 14), datetime.datetime(2020, 8, 30, 20, 13, 17), datetime.datetime(2020, 8, 30, 20, 13, 16), datetime.datetime(2020, 8, 30, 20, 13, 16), datetime.datetime(2020, 8, 30, 16, 0, 1), datetime.datetime(2020, 8, 30, 12, 0), datetime.datetime(2020, 8, 29, 23, 30), datetime.datetime(2020, 8, 29, 23, 10, 23), datetime.datetime(2020, 8, 29, 19, 30), datetime.datetime(2020, 8, 29, 17, 30), datetime.datetime(2020, 8, 29, 16, 0), datetime.datetime(2020, 8, 29, 15, 0, 1), datetime.datetime(2020, 8, 29, 13, 0, 1), datetime.datetime(2020, 8, 29, 3, 0, 53), datetime.datetime(2020, 8, 29, 0, 2), datetime.datetime(2020, 8, 28, 23, 0), datetime.datetime(2020, 8, 28, 22, 1), datetime.datetime(2020, 8, 28, 21, 1), datetime.datetime(2020, 8, 28, 20, 35), datetime.datetime(2020, 8, 28, 19, 55), datetime.datetime(2020, 8, 28, 19, 27), datetime.datetime(2020, 8, 28, 18, 14), datetime.datetime(2020, 8, 28, 17, 35), datetime.datetime(2020, 8, 28, 12, 35), datetime.datetime(2020, 8, 28, 3, 37), datetime.datetime(2020, 8, 28, 3, 28), datetime.datetime(2020, 8, 28, 3, 20), datetime.datetime(2020, 8, 28, 3, 1, 24), datetime.datetime(2020, 8, 28, 2, 59), datetime.datetime(2020, 8, 28, 2, 52), datetime.datetime(2020, 8, 28, 2, 48), datetime.datetime(2020, 8, 28, 2, 39), datetime.datetime(2020, 8, 28, 2, 32), datetime.datetime(2020, 8, 28, 2, 24), datetime.datetime(2020, 8, 28, 2, 15), datetime.datetime(2020, 8, 28, 2, 7), datetime.datetime(2020, 8, 28, 1, 58), datetime.datetime(2020, 8, 28, 0, 45), datetime.datetime(2020, 8, 28, 0, 29), datetime.datetime(2020, 8, 28, 0, 9), datetime.datetime(2020, 8, 27, 23, 38), datetime.datetime(2020, 8, 27, 22, 12), datetime.datetime(2020, 8, 27, 20, 48), datetime.datetime(2020, 8, 27, 19, 57), datetime.datetime(2020, 8, 27, 19, 3, 32), datetime.datetime(2020, 8, 27, 18, 36), datetime.datetime(2020, 8, 27, 16, 27), datetime.datetime(2020, 8, 27, 15, 18), datetime.datetime(2020, 8, 27, 14, 56), datetime.datetime(2020, 8, 27, 3, 25), datetime.datetime(2020, 8, 27, 2, 54), datetime.datetime(2020, 8, 27, 2, 43), datetime.datetime(2020, 8, 27, 0, 50), datetime.datetime(2020, 8, 26, 23, 47, 30), datetime.datetime(2020, 8, 26, 22, 48), datetime.datetime(2020, 8, 26, 21, 53), datetime.datetime(2020, 8, 26, 19, 43, 12), datetime.datetime(2020, 8, 26, 19, 4), datetime.datetime(2020, 8, 26, 18, 0, 1), datetime.datetime(2020, 8, 26, 16, 15), datetime.datetime(2020, 8, 26, 14, 23), datetime.datetime(2020, 8, 26, 13, 30), datetime.datetime(2020, 8, 26, 2, 24, 46), datetime.datetime(2020, 8, 26, 2, 17), datetime.datetime(2020, 8, 26, 0, 28), datetime.datetime(2020, 8, 25, 22, 49), datetime.datetime(2020, 8, 25, 22, 13), datetime.datetime(2020, 8, 25, 19, 38), datetime.datetime(2020, 8, 25, 18, 44), datetime.datetime(2020, 8, 25, 3, 22), datetime.datetime(2020, 8, 25, 2, 45), datetime.datetime(2020, 8, 25, 2, 20), datetime.datetime(2020, 8, 25, 1, 26, 27), datetime.datetime(2020, 8, 25, 0, 30), datetime.datetime(2020, 8, 24, 23, 54), datetime.datetime(2020, 8, 24, 16, 39), datetime.datetime(2020, 8, 24, 0, 37), datetime.datetime(2020, 8, 23, 22, 50), datetime.datetime(2020, 8, 23, 20, 35), datetime.datetime(2020, 8, 23, 19, 30), datetime.datetime(2020, 8, 23, 18, 2, 17), datetime.datetime(2020, 8, 23, 16, 25), datetime.datetime(2020, 8, 23, 14, 49), datetime.datetime(2020, 8, 22, 23, 45), datetime.datetime(2020, 8, 22, 21, 45), datetime.datetime(2020, 8, 22, 19, 45), datetime.datetime(2020, 8, 22, 17, 45), datetime.datetime(2020, 8, 22, 16, 19, 2), datetime.datetime(2020, 8, 22, 15, 15), datetime.datetime(2020, 8, 22, 14, 25), datetime.datetime(2020, 8, 22, 0, 35), datetime.datetime(2020, 8, 21, 23, 59), datetime.datetime(2020, 8, 21, 23, 16), datetime.datetime(2020, 8, 21, 22, 58), datetime.datetime(2020, 8, 21, 22, 17), datetime.datetime(2020, 8, 21, 21, 38), datetime.datetime(2020, 8, 21, 17, 17), datetime.datetime(2020, 8, 21, 15, 18), datetime.datetime(2020, 8, 21, 4, 17), datetime.datetime(2020, 8, 21, 4, 8, 39), datetime.datetime(2020, 8, 21, 3, 51, 33), datetime.datetime(2020, 8, 21, 3, 48, 31), datetime.datetime(2020, 8, 21, 3, 38, 28), datetime.datetime(2020, 8, 21, 3, 36, 16), datetime.datetime(2020, 8, 21, 3, 17, 36), datetime.datetime(2020, 8, 21, 2, 48), datetime.datetime(2020, 8, 21, 2, 41), datetime.datetime(2020, 8, 21, 2, 18), datetime.datetime(2020, 8, 21, 1, 33), datetime.datetime(2020, 8, 21, 0, 45, 57), datetime.datetime(2020, 8, 21, 0, 45), datetime.datetime(2020, 8, 21, 0, 30), datetime.datetime(2020, 8, 21, 0, 5), datetime.datetime(2020, 8, 20, 23, 35), datetime.datetime(2020, 8, 20, 23, 2), datetime.datetime(2020, 8, 20, 21, 0), datetime.datetime(2020, 8, 20, 20, 5), datetime.datetime(2020, 8, 20, 19, 20), datetime.datetime(2020, 8, 20, 18, 17), datetime.datetime(2020, 8, 20, 16, 20), datetime.datetime(2020, 8, 20, 13, 37), datetime.datetime(2020, 8, 20, 12, 50, 57), datetime.datetime(2020, 8, 20, 3, 30), datetime.datetime(2020, 8, 20, 3, 21, 7), datetime.datetime(2020, 8, 20, 2, 43, 49), datetime.datetime(2020, 8, 20, 2, 31), datetime.datetime(2020, 8, 20, 2, 25), datetime.datetime(2020, 8, 20, 2, 23, 56), datetime.datetime(2020, 8, 20, 2, 23, 39), datetime.datetime(2020, 8, 20, 2, 23, 31), datetime.datetime(2020, 8, 20, 1, 33), datetime.datetime(2020, 8, 20, 1, 28), datetime.datetime(2020, 8, 20, 1, 20), datetime.datetime(2020, 8, 20, 1, 18), datetime.datetime(2020, 8, 20, 1, 13), datetime.datetime(2020, 8, 20, 1, 5), datetime.datetime(2020, 8, 20, 0, 57, 3), datetime.datetime(2020, 8, 20, 0, 45, 34), datetime.datetime(2020, 8, 20, 0, 5), datetime.datetime(2020, 8, 19, 23, 15), datetime.datetime(2020, 8, 19, 21, 20), datetime.datetime(2020, 8, 19, 20, 6), datetime.datetime(2020, 8, 19, 18, 55), datetime.datetime(2020, 8, 19, 17, 20), datetime.datetime(2020, 8, 19, 15, 32), datetime.datetime(2020, 8, 19, 14, 38, 41), datetime.datetime(2020, 8, 19, 13, 55), datetime.datetime(2020, 8, 19, 3, 29), datetime.datetime(2020, 8, 19, 3, 14, 41), datetime.datetime(2020, 8, 19, 3, 11), datetime.datetime(2020, 8, 19, 2, 51), datetime.datetime(2020, 8, 19, 2, 35), datetime.datetime(2020, 8, 19, 2, 23), datetime.datetime(2020, 8, 19, 1, 49), datetime.datetime(2020, 8, 19, 1, 41), datetime.datetime(2020, 8, 19, 1, 33), datetime.datetime(2020, 8, 19, 1, 29), datetime.datetime(2020, 8, 19, 1, 19), datetime.datetime(2020, 8, 19, 0, 58, 20), datetime.datetime(2020, 8, 18, 23, 25), datetime.datetime(2020, 8, 18, 21, 2), datetime.datetime(2020, 8, 18, 18, 15)]\n"
     ]
    }
   ],
   "source": []
  },
  {
   "cell_type": "code",
   "execution_count": null,
   "metadata": {},
   "outputs": [],
   "source": []
  }
 ]
}