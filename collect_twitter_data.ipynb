{
 "metadata": {
  "language_info": {
   "codemirror_mode": {
    "name": "ipython",
    "version": 3
   },
   "file_extension": ".py",
   "mimetype": "text/x-python",
   "name": "python",
   "nbconvert_exporter": "python",
   "pygments_lexer": "ipython3",
   "version": "3.8.7"
  },
  "orig_nbformat": 2,
  "kernelspec": {
   "name": "python387jvsc74a57bd01e3fc3fd5cc6611b408713c484747d9500a6295d1233da3fe53fbb9b1a925342",
   "display_name": "Python 3.8.7 64-bit"
  },
  "metadata": {
   "interpreter": {
    "hash": "1e3fc3fd5cc6611b408713c484747d9500a6295d1233da3fe53fbb9b1a925342"
   }
  }
 },
 "nbformat": 4,
 "nbformat_minor": 2,
 "cells": [
  {
   "source": [
    "### Collect Twitter Data\n"
   ],
   "cell_type": "markdown",
   "metadata": {}
  },
  {
   "cell_type": "code",
   "execution_count": 1,
   "metadata": {},
   "outputs": [],
   "source": [
    "import tweepy\n",
    "import webbrowser\n",
    "import numpy as np\n",
    "import pandas as pd"
   ]
  },
  {
   "source": [
    "Connect to Twitter API using tweepy"
   ],
   "cell_type": "markdown",
   "metadata": {}
  },
  {
   "cell_type": "code",
   "execution_count": 2,
   "metadata": {},
   "outputs": [],
   "source": [
    "def twitter_connect():\n",
    "    auth = tweepy.OAuthHandler(\"8ypFgud3KOVujvYabjndkBRfm\", \"D8VS3yBDRh5mv75PZzTh8AhsyDI1KUCQTqaQu91uU1DTdTkCOP\")\n",
    "    try:\n",
    "        redirect_url = auth.get_authorization_url()\n",
    "    except tweepy.TweepError:\n",
    "        print(\"Error! Failed to get request token.\")\n",
    "    webbrowser.open(redirect_url, new=2)\n",
    "\n",
    "    verifier = input('Verifier: ')\n",
    "\n",
    "    auth.get_access_token(verifier)\n",
    "    api = tweepy.API(auth, wait_on_rate_limit=True, wait_on_rate_limit_notify=True)\n",
    "    return api\n",
    "    "
   ]
  },
  {
   "cell_type": "code",
   "execution_count": 3,
   "metadata": {},
   "outputs": [],
   "source": [
    "api = twitter_connect()"
   ]
  },
  {
   "source": [
    "Get Twitter data from Joe Biden's account"
   ],
   "cell_type": "markdown",
   "metadata": {}
  },
  {
   "cell_type": "code",
   "execution_count": 4,
   "metadata": {},
   "outputs": [],
   "source": [
    "def get_biden_tweets():\n",
    "    return tweepy.Cursor(api.user_timeline, screen_name='@JoeBiden', tweet_mode=\"extended\").items()"
   ]
  },
  {
   "cell_type": "code",
   "execution_count": 5,
   "metadata": {
    "tags": []
   },
   "outputs": [],
   "source": [
    "twitter_data = get_biden_tweets()\n",
    "# get useful data\n",
    "twt_texts = []\n",
    "twt_dates = []\n",
    "twt_rtwct = []\n",
    "twt_favct = []\n",
    "\n",
    "for tweet in twitter_data:\n",
    "    twt_texts.append(tweet.full_text)\n",
    "    twt_dates.append(tweet.created_at)\n",
    "    twt_rtwct.append(tweet.retweet_count)\n",
    "    twt_favct.append(tweet.favorite_count)\n"
   ]
  },
  {
   "cell_type": "code",
   "execution_count": 6,
   "metadata": {},
   "outputs": [
    {
     "output_type": "stream",
     "name": "stdout",
     "text": [
      "1860\n1860\n1860\n1860\n"
     ]
    }
   ],
   "source": [
    "print(len(twt_texts))\n",
    "print(len(twt_dates))\n",
    "print(len(twt_rtwct))\n",
    "print(len(twt_favct))"
   ]
  },
  {
   "source": [
    "# Form .csv file of twitter data"
   ],
   "cell_type": "markdown",
   "metadata": {
    "tags": [
     "outputPrepend"
    ]
   }
  },
  {
   "cell_type": "code",
   "execution_count": 8,
   "metadata": {},
   "outputs": [],
   "source": [
    "Data = {\n",
    "    'twt_dates' : twt_dates,\n",
    "    'twt_texts' : twt_texts,\n",
    "    'twt_rtwct' : twt_rtwct,\n",
    "    'twt_favct' : twt_favct\n",
    "}\n",
    "\n",
    "df = pd.DataFrame(Data, columns=['twt_dates', 'twt_texts', 'twt_rtwct', 'twt_favct'])\n",
    "df.to_csv('twitter_data.csv')"
   ]
  },
  {
   "cell_type": "code",
   "execution_count": null,
   "metadata": {},
   "outputs": [],
   "source": []
  }
 ]
}