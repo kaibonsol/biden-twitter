{
 "metadata": {
  "language_info": {
   "codemirror_mode": {
    "name": "ipython",
    "version": 3
   },
   "file_extension": ".py",
   "mimetype": "text/x-python",
   "name": "python",
   "nbconvert_exporter": "python",
   "pygments_lexer": "ipython3",
   "version": "3.8.7"
  },
  "orig_nbformat": 2,
  "kernelspec": {
   "name": "python387jvsc74a57bd01e3fc3fd5cc6611b408713c484747d9500a6295d1233da3fe53fbb9b1a925342",
   "display_name": "Python 3.8.7 64-bit"
  },
  "metadata": {
   "interpreter": {
    "hash": "1e3fc3fd5cc6611b408713c484747d9500a6295d1233da3fe53fbb9b1a925342"
   }
  }
 },
 "nbformat": 4,
 "nbformat_minor": 2,
 "cells": [
  {
   "source": [
    "## Preprocess data from data/twitter_poll.csv"
   ],
   "cell_type": "markdown",
   "metadata": {}
  },
  {
   "cell_type": "code",
   "execution_count": 5,
   "metadata": {},
   "outputs": [],
   "source": [
    "import pandas as pd\n",
    "import numpy as np"
   ]
  },
  {
   "cell_type": "code",
   "execution_count": 9,
   "metadata": {},
   "outputs": [
    {
     "output_type": "execute_result",
     "data": {
      "text/plain": [
       "   modeldate  Unnamed: 0                                               text  \\\n",
       "0  4/23/2021           1  Heading back to Georgia with @DrBiden next Thu...   \n",
       "1  4/22/2021           2  RT @WhiteHouse: Before taking office, Presiden...   \n",
       "2  4/22/2021           3  RT @POTUS: America is back. We rejoined the Pa...   \n",
       "3  4/21/2021           4  RT @POTUS: The guilty verdict does not bring b...   \n",
       "4  4/20/2021           5  RT @POTUS: Today, a jury in Minnesota found fo...   \n",
       "\n",
       "   retweet_count  favorite_count  approve_estimate  disapprove_estimate  \n",
       "0           3704         47202.0         53.751111            39.913626  \n",
       "1           2386         98787.2         53.266932            40.234692  \n",
       "2          18090         98787.2         53.266932            40.234692  \n",
       "3           3814         98787.2         53.431994            40.051306  \n",
       "4           8597         98787.2         53.455244            40.625908  "
      ],
      "text/html": "<div>\n<style scoped>\n    .dataframe tbody tr th:only-of-type {\n        vertical-align: middle;\n    }\n\n    .dataframe tbody tr th {\n        vertical-align: top;\n    }\n\n    .dataframe thead th {\n        text-align: right;\n    }\n</style>\n<table border=\"1\" class=\"dataframe\">\n  <thead>\n    <tr style=\"text-align: right;\">\n      <th></th>\n      <th>modeldate</th>\n      <th>Unnamed: 0</th>\n      <th>text</th>\n      <th>retweet_count</th>\n      <th>favorite_count</th>\n      <th>approve_estimate</th>\n      <th>disapprove_estimate</th>\n    </tr>\n  </thead>\n  <tbody>\n    <tr>\n      <th>0</th>\n      <td>4/23/2021</td>\n      <td>1</td>\n      <td>Heading back to Georgia with @DrBiden next Thu...</td>\n      <td>3704</td>\n      <td>47202.0</td>\n      <td>53.751111</td>\n      <td>39.913626</td>\n    </tr>\n    <tr>\n      <th>1</th>\n      <td>4/22/2021</td>\n      <td>2</td>\n      <td>RT @WhiteHouse: Before taking office, Presiden...</td>\n      <td>2386</td>\n      <td>98787.2</td>\n      <td>53.266932</td>\n      <td>40.234692</td>\n    </tr>\n    <tr>\n      <th>2</th>\n      <td>4/22/2021</td>\n      <td>3</td>\n      <td>RT @POTUS: America is back. We rejoined the Pa...</td>\n      <td>18090</td>\n      <td>98787.2</td>\n      <td>53.266932</td>\n      <td>40.234692</td>\n    </tr>\n    <tr>\n      <th>3</th>\n      <td>4/21/2021</td>\n      <td>4</td>\n      <td>RT @POTUS: The guilty verdict does not bring b...</td>\n      <td>3814</td>\n      <td>98787.2</td>\n      <td>53.431994</td>\n      <td>40.051306</td>\n    </tr>\n    <tr>\n      <th>4</th>\n      <td>4/20/2021</td>\n      <td>5</td>\n      <td>RT @POTUS: Today, a jury in Minnesota found fo...</td>\n      <td>8597</td>\n      <td>98787.2</td>\n      <td>53.455244</td>\n      <td>40.625908</td>\n    </tr>\n  </tbody>\n</table>\n</div>"
     },
     "metadata": {},
     "execution_count": 9
    }
   ],
   "source": [
    "twitter_poll_df = pd.read_csv('data/twitter_poll.csv')\n",
    "\n",
    "# handle retweets - always have a favorite count of 0, imputate missing data by replacing these with the average favorite count.\n",
    "twitter_poll_df['favorite_count'].replace(0, np.nan, inplace=True)\n",
    "average_fvt_cnt = twitter_poll_df['favorite_count'].mean()\n",
    "twitter_poll_df['favorite_count'].replace(np.nan, average_fvt_cnt, inplace=True)\n",
    "twitter_poll_df.head()"
   ]
  },
  {
   "cell_type": "code",
   "execution_count": 11,
   "metadata": {},
   "outputs": [
    {
     "output_type": "execute_result",
     "data": {
      "text/plain": [
       "   retweet_count  favorite_count  approve_estimate\n",
       "0           3704         47202.0         53.751111\n",
       "1           2386         98787.2         53.266932\n",
       "2          18090         98787.2         53.266932\n",
       "3           3814         98787.2         53.431994\n",
       "4           8597         98787.2         53.455244"
      ],
      "text/html": "<div>\n<style scoped>\n    .dataframe tbody tr th:only-of-type {\n        vertical-align: middle;\n    }\n\n    .dataframe tbody tr th {\n        vertical-align: top;\n    }\n\n    .dataframe thead th {\n        text-align: right;\n    }\n</style>\n<table border=\"1\" class=\"dataframe\">\n  <thead>\n    <tr style=\"text-align: right;\">\n      <th></th>\n      <th>retweet_count</th>\n      <th>favorite_count</th>\n      <th>approve_estimate</th>\n    </tr>\n  </thead>\n  <tbody>\n    <tr>\n      <th>0</th>\n      <td>3704</td>\n      <td>47202.0</td>\n      <td>53.751111</td>\n    </tr>\n    <tr>\n      <th>1</th>\n      <td>2386</td>\n      <td>98787.2</td>\n      <td>53.266932</td>\n    </tr>\n    <tr>\n      <th>2</th>\n      <td>18090</td>\n      <td>98787.2</td>\n      <td>53.266932</td>\n    </tr>\n    <tr>\n      <th>3</th>\n      <td>3814</td>\n      <td>98787.2</td>\n      <td>53.431994</td>\n    </tr>\n    <tr>\n      <th>4</th>\n      <td>8597</td>\n      <td>98787.2</td>\n      <td>53.455244</td>\n    </tr>\n  </tbody>\n</table>\n</div>"
     },
     "metadata": {},
     "execution_count": 11
    }
   ],
   "source": [
    "twitter_poll_df.drop(['Unnamed: 0', 'text', 'disapprove_estimate', 'modeldate'], axis=1, inplace=True)\n",
    "twitter_poll_df.head()"
   ]
  },
  {
   "source": [
    "## Get training and test set"
   ],
   "cell_type": "markdown",
   "metadata": {}
  },
  {
   "cell_type": "code",
   "execution_count": 13,
   "metadata": {},
   "outputs": [],
   "source": [
    "from sklearn.model_selection import train_test_split\n",
    "\n",
    "approve_estimate = twitter_poll_df['approve_estimate']\n",
    "twitter_poll_df.drop('approve_estimate', axis=1, inplace=True)\n",
    "X_train, X_test, y_train, y_test = train_test_split(twitter_poll_df, approve_estimate.values, test_size=0.2)"
   ]
  },
  {
   "source": [
    "## Normalization\n",
    "So at this point, favorites and retweets are the features, $X_{fvc}$ and $X_{rtc}$, that predict the approval estimate, $Y$. I want to normalize $X_{fvc}$ and $X_{rtc}$ since retweets are almost always less than favorites."
   ],
   "cell_type": "markdown",
   "metadata": {}
  },
  {
   "cell_type": "code",
   "execution_count": 20,
   "metadata": {},
   "outputs": [
    {
     "output_type": "stream",
     "name": "stdout",
     "text": [
      "[[-0.94902148 -0.02236819]\n [-0.75432501 -0.02236819]\n [ 1.51244849 -0.02236819]\n [-0.03245896 -0.02236819]\n [-0.8944675  -0.02236819]\n [-0.65537634 -3.04411119]\n [-0.77478275 -0.02236819]\n [ 0.31671434 -0.02236819]\n [-0.89530251 -0.02236819]\n [-0.45594814 -0.02236819]\n [ 2.08415193 -0.02236819]\n [-0.74054735 -0.02236819]\n [-0.50201285 -0.02236819]\n [ 0.86267163 -0.02236819]\n [-0.50145618 -0.02236819]\n [ 0.19341121 -0.02236819]\n [ 0.39005604 -0.02236819]\n [ 3.23437804 -0.02236819]\n [-0.98437023 -0.02236819]\n [-0.24983987 -0.02236819]\n [ 0.97845967 -0.02236819]\n [-0.7842462  -0.02236819]\n [-0.63992865 -0.02236819]\n [ 0.93991005  2.29769706]\n [-0.51008462 -0.02236819]\n [ 0.16223751 -0.02236819]\n [-1.10976088 -0.02236819]\n [ 0.386716   -0.02236819]\n [-0.14379361 -0.02236819]\n [ 0.28929818 -0.02236819]\n [ 1.85285419 -0.02236819]\n [-0.66637063 -0.02236819]\n [-0.82571835 -0.02236819]\n [-0.41934688 -0.02236819]\n [ 0.01555411 -0.02236819]\n [-0.71187867 -2.15037899]\n [ 0.29375157 -0.02236819]\n [ 3.24620735  5.97138398]\n [-0.66567479 -0.02236819]\n [-0.03092811 -0.02236819]\n [ 0.60451441 -0.02236819]\n [ 0.80380344 -0.02236819]\n [-0.72857887 -0.02236819]\n [-0.4104401  -0.02236819]\n [ 2.54786075 -0.02236819]\n [ 1.86120429 -0.02236819]\n [-0.76531931 -0.02236819]\n [ 1.07323329 -0.02236819]\n [-0.26765341 -0.02236819]\n [-0.35143274 -0.02236819]\n [-0.49797697 -0.02236819]\n [-0.46833412 -2.18173078]\n [-0.99675621 -0.02236819]\n [-0.40306418 -0.02236819]\n [ 0.52268344 -0.02236819]\n [-0.9138119  -3.30499106]\n [-0.46568992 -0.02236819]\n [-0.6634481  -0.02236819]\n [-0.03134562 -0.02236819]\n [-0.00893952 -0.02236819]\n [ 0.37321667 -0.02236819]\n [-0.30272383 -0.02236819]\n [ 0.58823172 -0.02236819]\n [-0.69657016 -0.02236819]\n [ 0.316436   -0.02236819]\n [-0.2497007  -0.02236819]\n [ 1.20349484  3.78538062]\n [-0.79162212 -0.02236819]\n [-0.2808744  -0.02236819]\n [-0.16967892 -0.02236819]\n [ 0.36096986  0.34910099]\n [-0.93593966 -0.02236819]\n [-0.35421611 -0.02236819]\n [-0.99369451 -0.02236819]\n [-0.64132034 -0.02236819]\n [-0.80693063 -0.02236819]\n [ 0.14191893 -0.02236819]\n [-0.97490679 -0.02236819]\n [-0.74486156 -0.02236819]\n [ 3.61681257 -0.02236819]\n [-0.47056082 -0.02236819]\n [-0.66052556 -0.02236819]\n [-0.2576333  -0.02236819]\n [-0.30133215 -0.02236819]\n [ 0.73032257 -0.02236819]]\n[[-0.93120794 -0.02236819]\n [ 1.76406481 -0.02236819]\n [ 1.79384682 -0.02236819]\n [-0.17858569 -0.02236819]\n [-0.94568144 -0.02236819]\n [-0.5338824  -0.02236819]\n [-0.38984319 -0.02236819]\n [ 0.32075022 -0.02236819]\n [-0.60207487 -0.02236819]\n [ 0.68648455 -0.02236819]\n [ 0.51948257 -0.02236819]\n [ 1.16731107 -0.02236819]\n [ 0.43013651  1.34852171]\n [-0.14922118 -0.02236819]\n [ 1.09188185 -0.02236819]\n [-0.72203796 -0.02236819]\n [-0.86051043 -3.29455422]\n [-0.70784279 -0.02236819]\n [ 0.81034435 -0.02236819]\n [ 1.65871439 -0.02236819]\n [-0.8602321  -0.02236819]\n [ 1.2901967  -0.02236819]]\n"
     ]
    }
   ],
   "source": [
    "from sklearn.preprocessing import StandardScaler\n",
    "\n",
    "sc = StandardScaler()\n",
    "sc.fit(X_train)\n",
    "X_train = sc.transform(X_train)\n",
    "X_test = sc.transform(X_test)\n",
    "print(X_train)\n",
    "print(X_test)"
   ]
  },
  {
   "source": [
    "## Now that all the data preprocessing is done, we can run regression models\n",
    "\n",
    "Let's start with the simplest, linear regression"
   ],
   "cell_type": "markdown",
   "metadata": {}
  },
  {
   "cell_type": "code",
   "execution_count": 22,
   "metadata": {},
   "outputs": [],
   "source": [
    "from sklearn.linear_model import LinearRegression\n",
    "\n",
    "regr = LinearRegression()\n",
    "reg = regr.fit(X_train, y_train)\n",
    "y_pred = regr.predict(X_test)\n"
   ]
  },
  {
   "cell_type": "code",
   "execution_count": 24,
   "metadata": {},
   "outputs": [
    {
     "output_type": "stream",
     "name": "stdout",
     "text": [
      "[53.88272175 54.03043178 54.03206393 53.92396798 53.88192855 53.90449653\n 53.91239036 53.95133327 53.90075935 53.97137675 53.96222448 53.99772766\n 53.85490151 53.92557726 53.99359389 53.89418497 54.13107869 53.89496291\n 53.97816468 54.02465822 53.88661146 54.00446221]\n[54.403931 54.841579 54.449369 54.036119 53.455244 54.403931 52.9743\n 54.479157 54.264025 54.406798 54.441821 54.442678 53.154843 54.403931\n 54.732806 53.88628  53.455244 54.326912 52.9743   54.124379 53.974147\n 53.266932]\n"
     ]
    }
   ],
   "source": [
    "print(y_pred)\n",
    "print(y_test)"
   ]
  },
  {
   "cell_type": "code",
   "execution_count": null,
   "metadata": {},
   "outputs": [],
   "source": []
  }
 ]
}